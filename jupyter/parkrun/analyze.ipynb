{
 "cells": [
  {
   "cell_type": "code",
   "execution_count": 1,
   "metadata": {},
   "outputs": [
    {
     "ename": "NameError",
     "evalue": "name 'pd' is not defined",
     "output_type": "error",
     "traceback": [
      "\u001b[1;31m---------------------------------------------------------------------------\u001b[0m",
      "\u001b[1;31mNameError\u001b[0m                                 Traceback (most recent call last)",
      "\u001b[1;32m<ipython-input-1-7ff6b2f1b81c>\u001b[0m in \u001b[0;36m<module>\u001b[1;34m\u001b[0m\n\u001b[1;32m----> 1\u001b[1;33m \u001b[0mparkruns\u001b[0m \u001b[1;33m=\u001b[0m \u001b[0mpd\u001b[0m\u001b[1;33m.\u001b[0m\u001b[0mread_csv\u001b[0m\u001b[1;33m(\u001b[0m\u001b[1;34m\"parkruns.csv\"\u001b[0m\u001b[1;33m)\u001b[0m\u001b[1;33m\u001b[0m\u001b[1;33m\u001b[0m\u001b[0m\n\u001b[0m",
      "\u001b[1;31mNameError\u001b[0m: name 'pd' is not defined"
     ]
    }
   ],
   "source": [
    "parkruns = pd.read_csv(\"parkruns.csv\")"
   ]
  },
  {
   "cell_type": "code",
   "execution_count": null,
   "metadata": {},
   "outputs": [],
   "source": [
    "chunk_size = 10\n",
    "parkruns.dropna(subset=[\"Time\"], inplace=True)\n",
    "parkruns[\"ChunkNum\"] = parkruns[\"ParkrunNum\"]//chunk_size"
   ]
  },
  {
   "cell_type": "code",
   "execution_count": null,
   "metadata": {},
   "outputs": [],
   "source": [
    "def parse(s):\n",
    "    if len(s.split(\":\")) == 2:\n",
    "        return f\"00:{s}\"\n",
    "    return s\n",
    "parkruns = parkruns[parkruns[\"parkrunner\"]!=\"Unknown\"]\n",
    "parkruns[\"Time\"] = parkruns[\"Time\"].apply(parse)\n",
    "parkruns[\"Time\"] = pd.to_timedelta(parkruns[\"Time\"])"
   ]
  },
  {
   "cell_type": "code",
   "execution_count": null,
   "metadata": {},
   "outputs": [],
   "source": [
    "best_in_chunk = parkruns.loc[parkruns.groupby([\"ChunkNum\", \"parkrunner\"])[\"Time\"].idxmin()]"
   ]
  },
  {
   "cell_type": "code",
   "execution_count": null,
   "metadata": {},
   "outputs": [],
   "source": [
    "top_10_in_chunk = best_in_chunk.groupby(\"ChunkNum\").apply(lambda x: x.sort_values(\"Time\")[:10])\n",
    "top_10_in_chunk[\"WRTimeRel\"] = top_10_in_chunk[\"Time\"] - pd.Timedelta(minutes=16, seconds=48)\n",
    "#top_10_in_rolling = parkruns.rolling(5, on=\"ParkrunNum\")[\"Time\"].apply(lambda x: sorted(x, ascending=False)[:10])"
   ]
  },
  {
   "cell_type": "code",
   "execution_count": null,
   "metadata": {},
   "outputs": [],
   "source": [
    "\n",
    "def bar_for_chunk(chunk):\n",
    "    s = top_10_in_chunk[top_10_in_chunk[\"ChunkNum\"]==chunk].sort_values(\"WRTimeRel\", ascending=False)\n",
    "    marker_colors = [f\"#{hex(hash(str(i)))[-6:]}\"  for i in s[\"parkrunner\"]] \n",
    "    y= s[\"WRTimeRel\"].apply(lambda x: x.seconds)\n",
    "    return  y, s[\"parkrunner\"], marker_colors\n",
    "\n",
    "\n",
    "\n"
   ]
  },
  {
   "cell_type": "code",
   "execution_count": null,
   "metadata": {},
   "outputs": [],
   "source": [
    "import time\n",
    "x, y, m = bar_for_chunk(0)\n",
    "fig = go.Figure([go.Bar(y=y, x=x, orientation='h', marker_color=m)])\n",
    "fig"
   ]
  },
  {
   "cell_type": "code",
   "execution_count": null,
   "metadata": {},
   "outputs": [],
   "source": [
    "frames = []\n",
    "for i in range(1,top_10_in_chunk[\"ChunkNum\"].max()):\n",
    "    x, y, m = bar_for_chunk(i)\n",
    "    dat = go.Bar(y=y, x=x, orientation='h', marker_color=m)\n",
    "    frames.append({\"data\":dat, \"name\":f\"{i}\"})\n",
    "fig[\"frames\"] = frames"
   ]
  },
  {
   "cell_type": "code",
   "execution_count": null,
   "metadata": {},
   "outputs": [],
   "source": [
    "from plotly.offline import init_notebook_mode, iplot\n",
    "iplot(fig, \"parkrun\")"
   ]
  },
  {
   "cell_type": "code",
   "execution_count": null,
   "metadata": {},
   "outputs": [],
   "source": []
  },
  {
   "cell_type": "code",
   "execution_count": null,
   "metadata": {},
   "outputs": [],
   "source": []
  }
 ],
 "metadata": {
  "kernelspec": {
   "display_name": "Python 3",
   "language": "python",
   "name": "python3"
  },
  "language_info": {
   "codemirror_mode": {
    "name": "ipython",
    "version": 3
   },
   "file_extension": ".py",
   "mimetype": "text/x-python",
   "name": "python",
   "nbconvert_exporter": "python",
   "pygments_lexer": "ipython3",
   "version": "3.7.1"
  }
 },
 "nbformat": 4,
 "nbformat_minor": 4
}
