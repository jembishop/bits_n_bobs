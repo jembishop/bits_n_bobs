{
 "cells": [
  {
   "cell_type": "code",
   "execution_count": 27,
   "metadata": {},
   "outputs": [],
   "source": [
    "parkruns = pd.read_csv(\"parkruns.csv\")"
   ]
  },
  {
   "cell_type": "code",
   "execution_count": 28,
   "metadata": {},
   "outputs": [],
   "source": [
    "chunk_size = 10\n",
    "parkruns.dropna(subset=[\"Time\"], inplace=True)\n",
    "parkruns[\"ChunkNum\"] = parkruns[\"ParkrunNum\"]//chunk_size"
   ]
  },
  {
   "cell_type": "code",
   "execution_count": 29,
   "metadata": {},
   "outputs": [],
   "source": [
    "def parse(s):\n",
    "    if len(s.split(\":\")) == 2:\n",
    "        return f\"00:{s}\"\n",
    "    return s\n",
    "parkruns = parkruns[parkruns[\"parkrunner\"]!=\"Unknown\"]\n",
    "parkruns[\"Time\"] = parkruns[\"Time\"].apply(parse)\n",
    "parkruns[\"Time\"] = pd.to_timedelta(parkruns[\"Time\"])"
   ]
  },
  {
   "cell_type": "code",
   "execution_count": 30,
   "metadata": {},
   "outputs": [],
   "source": [
    "best_in_chunk = parkruns.loc[parkruns.groupby([\"ChunkNum\", \"parkrunner\"])[\"Time\"].idxmin()]"
   ]
  },
  {
   "cell_type": "code",
   "execution_count": 41,
   "metadata": {},
   "outputs": [
    {
     "name": "stderr",
     "output_type": "stream",
     "text": [
      "C:\\Users\\jembi\\Anaconda3\\lib\\site-packages\\ipykernel_launcher.py:3: FutureWarning:\n",
      "\n",
      "Currently, 'apply' passes the values as ndarrays to the applied function. In the future, this will change to passing it as Series objects. You need to specify 'raw=True' to keep the current behaviour, and you can pass 'raw=False' to silence this warning\n",
      "\n"
     ]
    },
    {
     "ename": "NotImplementedError",
     "evalue": "ops for Rolling for this dtype timedelta64[ns] are not implemented",
     "output_type": "error",
     "traceback": [
      "\u001b[1;31m---------------------------------------------------------------------------\u001b[0m",
      "\u001b[1;31mNotImplementedError\u001b[0m                       Traceback (most recent call last)",
      "\u001b[1;32m<ipython-input-41-1c60bb57c986>\u001b[0m in \u001b[0;36m<module>\u001b[1;34m\u001b[0m\n\u001b[0;32m      1\u001b[0m \u001b[0mtop_10_in_chunk\u001b[0m \u001b[1;33m=\u001b[0m \u001b[0mbest_in_chunk\u001b[0m\u001b[1;33m.\u001b[0m\u001b[0mgroupby\u001b[0m\u001b[1;33m(\u001b[0m\u001b[1;34m\"ChunkNum\"\u001b[0m\u001b[1;33m)\u001b[0m\u001b[1;33m.\u001b[0m\u001b[0mapply\u001b[0m\u001b[1;33m(\u001b[0m\u001b[1;32mlambda\u001b[0m \u001b[0mx\u001b[0m\u001b[1;33m:\u001b[0m \u001b[0mx\u001b[0m\u001b[1;33m.\u001b[0m\u001b[0msort_values\u001b[0m\u001b[1;33m(\u001b[0m\u001b[1;34m\"Time\"\u001b[0m\u001b[1;33m)\u001b[0m\u001b[1;33m[\u001b[0m\u001b[1;33m:\u001b[0m\u001b[1;36m10\u001b[0m\u001b[1;33m]\u001b[0m\u001b[1;33m)\u001b[0m\u001b[1;33m\u001b[0m\u001b[1;33m\u001b[0m\u001b[0m\n\u001b[0;32m      2\u001b[0m \u001b[0mtop_10_in_chunk\u001b[0m\u001b[1;33m[\u001b[0m\u001b[1;34m\"WRTimeRel\"\u001b[0m\u001b[1;33m]\u001b[0m \u001b[1;33m=\u001b[0m \u001b[0mtop_10_in_chunk\u001b[0m\u001b[1;33m[\u001b[0m\u001b[1;34m\"Time\"\u001b[0m\u001b[1;33m]\u001b[0m \u001b[1;33m-\u001b[0m \u001b[0mpd\u001b[0m\u001b[1;33m.\u001b[0m\u001b[0mTimedelta\u001b[0m\u001b[1;33m(\u001b[0m\u001b[0mminutes\u001b[0m\u001b[1;33m=\u001b[0m\u001b[1;36m16\u001b[0m\u001b[1;33m,\u001b[0m \u001b[0mseconds\u001b[0m\u001b[1;33m=\u001b[0m\u001b[1;36m48\u001b[0m\u001b[1;33m)\u001b[0m\u001b[1;33m\u001b[0m\u001b[1;33m\u001b[0m\u001b[0m\n\u001b[1;32m----> 3\u001b[1;33m \u001b[0mtop_10_in_rolling\u001b[0m \u001b[1;33m=\u001b[0m \u001b[0mparkruns\u001b[0m\u001b[1;33m.\u001b[0m\u001b[0mrolling\u001b[0m\u001b[1;33m(\u001b[0m\u001b[1;36m5\u001b[0m\u001b[1;33m,\u001b[0m \u001b[0mon\u001b[0m\u001b[1;33m=\u001b[0m\u001b[1;34m\"ParkrunNum\"\u001b[0m\u001b[1;33m)\u001b[0m\u001b[1;33m[\u001b[0m\u001b[1;34m\"Time\"\u001b[0m\u001b[1;33m]\u001b[0m\u001b[1;33m.\u001b[0m\u001b[0mapply\u001b[0m\u001b[1;33m(\u001b[0m\u001b[1;32mlambda\u001b[0m \u001b[0mx\u001b[0m\u001b[1;33m:\u001b[0m \u001b[0msorted\u001b[0m\u001b[1;33m(\u001b[0m\u001b[0mx\u001b[0m\u001b[1;33m,\u001b[0m \u001b[0mascending\u001b[0m\u001b[1;33m=\u001b[0m\u001b[1;32mFalse\u001b[0m\u001b[1;33m)\u001b[0m\u001b[1;33m[\u001b[0m\u001b[1;33m:\u001b[0m\u001b[1;36m10\u001b[0m\u001b[1;33m]\u001b[0m\u001b[1;33m)\u001b[0m\u001b[1;33m\u001b[0m\u001b[1;33m\u001b[0m\u001b[0m\n\u001b[0m",
      "\u001b[1;32m~\\Anaconda3\\lib\\site-packages\\pandas\\core\\window.py\u001b[0m in \u001b[0;36mapply\u001b[1;34m(self, func, raw, args, kwargs)\u001b[0m\n\u001b[0;32m   1701\u001b[0m     \u001b[1;32mdef\u001b[0m \u001b[0mapply\u001b[0m\u001b[1;33m(\u001b[0m\u001b[0mself\u001b[0m\u001b[1;33m,\u001b[0m \u001b[0mfunc\u001b[0m\u001b[1;33m,\u001b[0m \u001b[0mraw\u001b[0m\u001b[1;33m=\u001b[0m\u001b[1;32mNone\u001b[0m\u001b[1;33m,\u001b[0m \u001b[0margs\u001b[0m\u001b[1;33m=\u001b[0m\u001b[1;33m(\u001b[0m\u001b[1;33m)\u001b[0m\u001b[1;33m,\u001b[0m \u001b[0mkwargs\u001b[0m\u001b[1;33m=\u001b[0m\u001b[1;33m{\u001b[0m\u001b[1;33m}\u001b[0m\u001b[1;33m)\u001b[0m\u001b[1;33m:\u001b[0m\u001b[1;33m\u001b[0m\u001b[1;33m\u001b[0m\u001b[0m\n\u001b[0;32m   1702\u001b[0m         return super(Rolling, self).apply(\n\u001b[1;32m-> 1703\u001b[1;33m             func, raw=raw, args=args, kwargs=kwargs)\n\u001b[0m\u001b[0;32m   1704\u001b[0m \u001b[1;33m\u001b[0m\u001b[0m\n\u001b[0;32m   1705\u001b[0m     \u001b[1;33m@\u001b[0m\u001b[0mSubstitution\u001b[0m\u001b[1;33m(\u001b[0m\u001b[0mname\u001b[0m\u001b[1;33m=\u001b[0m\u001b[1;34m'rolling'\u001b[0m\u001b[1;33m)\u001b[0m\u001b[1;33m\u001b[0m\u001b[1;33m\u001b[0m\u001b[0m\n",
      "\u001b[1;32m~\\Anaconda3\\lib\\site-packages\\pandas\\core\\window.py\u001b[0m in \u001b[0;36mapply\u001b[1;34m(self, func, raw, args, kwargs)\u001b[0m\n\u001b[0;32m   1010\u001b[0m \u001b[1;33m\u001b[0m\u001b[0m\n\u001b[0;32m   1011\u001b[0m         return self._apply(f, func, args=args, kwargs=kwargs,\n\u001b[1;32m-> 1012\u001b[1;33m                            center=False, raw=raw)\n\u001b[0m\u001b[0;32m   1013\u001b[0m \u001b[1;33m\u001b[0m\u001b[0m\n\u001b[0;32m   1014\u001b[0m     \u001b[1;32mdef\u001b[0m \u001b[0msum\u001b[0m\u001b[1;33m(\u001b[0m\u001b[0mself\u001b[0m\u001b[1;33m,\u001b[0m \u001b[1;33m*\u001b[0m\u001b[0margs\u001b[0m\u001b[1;33m,\u001b[0m \u001b[1;33m**\u001b[0m\u001b[0mkwargs\u001b[0m\u001b[1;33m)\u001b[0m\u001b[1;33m:\u001b[0m\u001b[1;33m\u001b[0m\u001b[1;33m\u001b[0m\u001b[0m\n",
      "\u001b[1;32m~\\Anaconda3\\lib\\site-packages\\pandas\\core\\window.py\u001b[0m in \u001b[0;36m_apply\u001b[1;34m(self, func, name, window, center, check_minp, **kwargs)\u001b[0m\n\u001b[0;32m    839\u001b[0m         \u001b[0mresults\u001b[0m \u001b[1;33m=\u001b[0m \u001b[1;33m[\u001b[0m\u001b[1;33m]\u001b[0m\u001b[1;33m\u001b[0m\u001b[1;33m\u001b[0m\u001b[0m\n\u001b[0;32m    840\u001b[0m         \u001b[1;32mfor\u001b[0m \u001b[0mb\u001b[0m \u001b[1;32min\u001b[0m \u001b[0mblocks\u001b[0m\u001b[1;33m:\u001b[0m\u001b[1;33m\u001b[0m\u001b[1;33m\u001b[0m\u001b[0m\n\u001b[1;32m--> 841\u001b[1;33m             \u001b[0mvalues\u001b[0m \u001b[1;33m=\u001b[0m \u001b[0mself\u001b[0m\u001b[1;33m.\u001b[0m\u001b[0m_prep_values\u001b[0m\u001b[1;33m(\u001b[0m\u001b[0mb\u001b[0m\u001b[1;33m.\u001b[0m\u001b[0mvalues\u001b[0m\u001b[1;33m)\u001b[0m\u001b[1;33m\u001b[0m\u001b[1;33m\u001b[0m\u001b[0m\n\u001b[0m\u001b[0;32m    842\u001b[0m \u001b[1;33m\u001b[0m\u001b[0m\n\u001b[0;32m    843\u001b[0m             \u001b[1;32mif\u001b[0m \u001b[0mvalues\u001b[0m\u001b[1;33m.\u001b[0m\u001b[0msize\u001b[0m \u001b[1;33m==\u001b[0m \u001b[1;36m0\u001b[0m\u001b[1;33m:\u001b[0m\u001b[1;33m\u001b[0m\u001b[1;33m\u001b[0m\u001b[0m\n",
      "\u001b[1;32m~\\Anaconda3\\lib\\site-packages\\pandas\\core\\window.py\u001b[0m in \u001b[0;36m_prep_values\u001b[1;34m(self, values, kill_inf)\u001b[0m\n\u001b[0;32m    206\u001b[0m                                       \"implemented\".format(\n\u001b[0;32m    207\u001b[0m                                           \u001b[0maction\u001b[0m\u001b[1;33m=\u001b[0m\u001b[0mself\u001b[0m\u001b[1;33m.\u001b[0m\u001b[0m_window_type\u001b[0m\u001b[1;33m,\u001b[0m\u001b[1;33m\u001b[0m\u001b[1;33m\u001b[0m\u001b[0m\n\u001b[1;32m--> 208\u001b[1;33m                                           dtype=values.dtype))\n\u001b[0m\u001b[0;32m    209\u001b[0m         \u001b[1;32melse\u001b[0m\u001b[1;33m:\u001b[0m\u001b[1;33m\u001b[0m\u001b[1;33m\u001b[0m\u001b[0m\n\u001b[0;32m    210\u001b[0m             \u001b[1;32mtry\u001b[0m\u001b[1;33m:\u001b[0m\u001b[1;33m\u001b[0m\u001b[1;33m\u001b[0m\u001b[0m\n",
      "\u001b[1;31mNotImplementedError\u001b[0m: ops for Rolling for this dtype timedelta64[ns] are not implemented"
     ]
    }
   ],
   "source": [
    "top_10_in_chunk = best_in_chunk.groupby(\"ChunkNum\").apply(lambda x: x.sort_values(\"Time\")[:10])\n",
    "top_10_in_chunk[\"WRTimeRel\"] = top_10_in_chunk[\"Time\"] - pd.Timedelta(minutes=16, seconds=48)\n",
    "top_10_in_rolling = parkruns.rolling(5, on=\"ParkrunNum\")[\"Time\"].apply(lambda x: sorted(x, ascending=False)[:10])"
   ]
  },
  {
   "cell_type": "code",
   "execution_count": 32,
   "metadata": {},
   "outputs": [],
   "source": [
    "\n",
    "def bar_for_chunk(chunk):\n",
    "    s = top_10_in_chunk[top_10_in_chunk[\"ChunkNum\"]==chunk].sort_values(\"WRTimeRel\", ascending=False)\n",
    "    marker_colors = [f\"#{hex(hash(str(i)))[-6:]}\"  for i in s[\"parkrunner\"]] \n",
    "    y= s[\"WRTimeRel\"].apply(lambda x: x.seconds)\n",
    "    return  y, s[\"parkrunner\"], marker_colors\n",
    "\n",
    "\n",
    "\n"
   ]
  },
  {
   "cell_type": "code",
   "execution_count": 33,
   "metadata": {},
   "outputs": [
    {
     "data": {
      "application/vnd.plotly.v1+json": {
       "config": {
        "plotlyServerURL": "https://plot.ly"
       },
       "data": [
        {
         "marker": {
          "color": [
           "#9e6bd5",
           "#8851ed",
           "#193a30",
           "#0c5c89",
           "#6b8b69",
           "#fd11fa",
           "#f1f407",
           "#2f6bac",
           "#ed7078",
           "#643ea8"
          ]
         },
         "orientation": "h",
         "type": "bar",
         "x": [
          179,
          167,
          167,
          159,
          149,
          140,
          129,
          125,
          113,
          105
         ],
         "y": [
          "Charlie THOMPSON",
          "Matthew SAWBRIDGE",
          "Adrian LIHOU",
          "Chris HICKLING",
          "Kieran ASHWORTH",
          "James PRIEST",
          "Clayton BARRETT",
          "Luke RICHARDS",
          "Sammy GALPIN",
          "James DE GARIS"
         ]
        }
       ],
       "layout": {
        "template": {
         "data": {
          "bar": [
           {
            "error_x": {
             "color": "#2a3f5f"
            },
            "error_y": {
             "color": "#2a3f5f"
            },
            "marker": {
             "line": {
              "color": "#E5ECF6",
              "width": 0.5
             }
            },
            "type": "bar"
           }
          ],
          "barpolar": [
           {
            "marker": {
             "line": {
              "color": "#E5ECF6",
              "width": 0.5
             }
            },
            "type": "barpolar"
           }
          ],
          "carpet": [
           {
            "aaxis": {
             "endlinecolor": "#2a3f5f",
             "gridcolor": "white",
             "linecolor": "white",
             "minorgridcolor": "white",
             "startlinecolor": "#2a3f5f"
            },
            "baxis": {
             "endlinecolor": "#2a3f5f",
             "gridcolor": "white",
             "linecolor": "white",
             "minorgridcolor": "white",
             "startlinecolor": "#2a3f5f"
            },
            "type": "carpet"
           }
          ],
          "choropleth": [
           {
            "colorbar": {
             "outlinewidth": 0,
             "ticks": ""
            },
            "type": "choropleth"
           }
          ],
          "contour": [
           {
            "colorbar": {
             "outlinewidth": 0,
             "ticks": ""
            },
            "colorscale": [
             [
              0,
              "#0d0887"
             ],
             [
              0.1111111111111111,
              "#46039f"
             ],
             [
              0.2222222222222222,
              "#7201a8"
             ],
             [
              0.3333333333333333,
              "#9c179e"
             ],
             [
              0.4444444444444444,
              "#bd3786"
             ],
             [
              0.5555555555555556,
              "#d8576b"
             ],
             [
              0.6666666666666666,
              "#ed7953"
             ],
             [
              0.7777777777777778,
              "#fb9f3a"
             ],
             [
              0.8888888888888888,
              "#fdca26"
             ],
             [
              1,
              "#f0f921"
             ]
            ],
            "type": "contour"
           }
          ],
          "contourcarpet": [
           {
            "colorbar": {
             "outlinewidth": 0,
             "ticks": ""
            },
            "type": "contourcarpet"
           }
          ],
          "heatmap": [
           {
            "colorbar": {
             "outlinewidth": 0,
             "ticks": ""
            },
            "colorscale": [
             [
              0,
              "#0d0887"
             ],
             [
              0.1111111111111111,
              "#46039f"
             ],
             [
              0.2222222222222222,
              "#7201a8"
             ],
             [
              0.3333333333333333,
              "#9c179e"
             ],
             [
              0.4444444444444444,
              "#bd3786"
             ],
             [
              0.5555555555555556,
              "#d8576b"
             ],
             [
              0.6666666666666666,
              "#ed7953"
             ],
             [
              0.7777777777777778,
              "#fb9f3a"
             ],
             [
              0.8888888888888888,
              "#fdca26"
             ],
             [
              1,
              "#f0f921"
             ]
            ],
            "type": "heatmap"
           }
          ],
          "heatmapgl": [
           {
            "colorbar": {
             "outlinewidth": 0,
             "ticks": ""
            },
            "colorscale": [
             [
              0,
              "#0d0887"
             ],
             [
              0.1111111111111111,
              "#46039f"
             ],
             [
              0.2222222222222222,
              "#7201a8"
             ],
             [
              0.3333333333333333,
              "#9c179e"
             ],
             [
              0.4444444444444444,
              "#bd3786"
             ],
             [
              0.5555555555555556,
              "#d8576b"
             ],
             [
              0.6666666666666666,
              "#ed7953"
             ],
             [
              0.7777777777777778,
              "#fb9f3a"
             ],
             [
              0.8888888888888888,
              "#fdca26"
             ],
             [
              1,
              "#f0f921"
             ]
            ],
            "type": "heatmapgl"
           }
          ],
          "histogram": [
           {
            "marker": {
             "colorbar": {
              "outlinewidth": 0,
              "ticks": ""
             }
            },
            "type": "histogram"
           }
          ],
          "histogram2d": [
           {
            "colorbar": {
             "outlinewidth": 0,
             "ticks": ""
            },
            "colorscale": [
             [
              0,
              "#0d0887"
             ],
             [
              0.1111111111111111,
              "#46039f"
             ],
             [
              0.2222222222222222,
              "#7201a8"
             ],
             [
              0.3333333333333333,
              "#9c179e"
             ],
             [
              0.4444444444444444,
              "#bd3786"
             ],
             [
              0.5555555555555556,
              "#d8576b"
             ],
             [
              0.6666666666666666,
              "#ed7953"
             ],
             [
              0.7777777777777778,
              "#fb9f3a"
             ],
             [
              0.8888888888888888,
              "#fdca26"
             ],
             [
              1,
              "#f0f921"
             ]
            ],
            "type": "histogram2d"
           }
          ],
          "histogram2dcontour": [
           {
            "colorbar": {
             "outlinewidth": 0,
             "ticks": ""
            },
            "colorscale": [
             [
              0,
              "#0d0887"
             ],
             [
              0.1111111111111111,
              "#46039f"
             ],
             [
              0.2222222222222222,
              "#7201a8"
             ],
             [
              0.3333333333333333,
              "#9c179e"
             ],
             [
              0.4444444444444444,
              "#bd3786"
             ],
             [
              0.5555555555555556,
              "#d8576b"
             ],
             [
              0.6666666666666666,
              "#ed7953"
             ],
             [
              0.7777777777777778,
              "#fb9f3a"
             ],
             [
              0.8888888888888888,
              "#fdca26"
             ],
             [
              1,
              "#f0f921"
             ]
            ],
            "type": "histogram2dcontour"
           }
          ],
          "mesh3d": [
           {
            "colorbar": {
             "outlinewidth": 0,
             "ticks": ""
            },
            "type": "mesh3d"
           }
          ],
          "parcoords": [
           {
            "line": {
             "colorbar": {
              "outlinewidth": 0,
              "ticks": ""
             }
            },
            "type": "parcoords"
           }
          ],
          "scatter": [
           {
            "marker": {
             "colorbar": {
              "outlinewidth": 0,
              "ticks": ""
             }
            },
            "type": "scatter"
           }
          ],
          "scatter3d": [
           {
            "line": {
             "colorbar": {
              "outlinewidth": 0,
              "ticks": ""
             }
            },
            "marker": {
             "colorbar": {
              "outlinewidth": 0,
              "ticks": ""
             }
            },
            "type": "scatter3d"
           }
          ],
          "scattercarpet": [
           {
            "marker": {
             "colorbar": {
              "outlinewidth": 0,
              "ticks": ""
             }
            },
            "type": "scattercarpet"
           }
          ],
          "scattergeo": [
           {
            "marker": {
             "colorbar": {
              "outlinewidth": 0,
              "ticks": ""
             }
            },
            "type": "scattergeo"
           }
          ],
          "scattergl": [
           {
            "marker": {
             "colorbar": {
              "outlinewidth": 0,
              "ticks": ""
             }
            },
            "type": "scattergl"
           }
          ],
          "scattermapbox": [
           {
            "marker": {
             "colorbar": {
              "outlinewidth": 0,
              "ticks": ""
             }
            },
            "type": "scattermapbox"
           }
          ],
          "scatterpolar": [
           {
            "marker": {
             "colorbar": {
              "outlinewidth": 0,
              "ticks": ""
             }
            },
            "type": "scatterpolar"
           }
          ],
          "scatterpolargl": [
           {
            "marker": {
             "colorbar": {
              "outlinewidth": 0,
              "ticks": ""
             }
            },
            "type": "scatterpolargl"
           }
          ],
          "scatterternary": [
           {
            "marker": {
             "colorbar": {
              "outlinewidth": 0,
              "ticks": ""
             }
            },
            "type": "scatterternary"
           }
          ],
          "surface": [
           {
            "colorbar": {
             "outlinewidth": 0,
             "ticks": ""
            },
            "colorscale": [
             [
              0,
              "#0d0887"
             ],
             [
              0.1111111111111111,
              "#46039f"
             ],
             [
              0.2222222222222222,
              "#7201a8"
             ],
             [
              0.3333333333333333,
              "#9c179e"
             ],
             [
              0.4444444444444444,
              "#bd3786"
             ],
             [
              0.5555555555555556,
              "#d8576b"
             ],
             [
              0.6666666666666666,
              "#ed7953"
             ],
             [
              0.7777777777777778,
              "#fb9f3a"
             ],
             [
              0.8888888888888888,
              "#fdca26"
             ],
             [
              1,
              "#f0f921"
             ]
            ],
            "type": "surface"
           }
          ],
          "table": [
           {
            "cells": {
             "fill": {
              "color": "#EBF0F8"
             },
             "line": {
              "color": "white"
             }
            },
            "header": {
             "fill": {
              "color": "#C8D4E3"
             },
             "line": {
              "color": "white"
             }
            },
            "type": "table"
           }
          ]
         },
         "layout": {
          "annotationdefaults": {
           "arrowcolor": "#2a3f5f",
           "arrowhead": 0,
           "arrowwidth": 1
          },
          "colorscale": {
           "diverging": [
            [
             0,
             "#8e0152"
            ],
            [
             0.1,
             "#c51b7d"
            ],
            [
             0.2,
             "#de77ae"
            ],
            [
             0.3,
             "#f1b6da"
            ],
            [
             0.4,
             "#fde0ef"
            ],
            [
             0.5,
             "#f7f7f7"
            ],
            [
             0.6,
             "#e6f5d0"
            ],
            [
             0.7,
             "#b8e186"
            ],
            [
             0.8,
             "#7fbc41"
            ],
            [
             0.9,
             "#4d9221"
            ],
            [
             1,
             "#276419"
            ]
           ],
           "sequential": [
            [
             0,
             "#0d0887"
            ],
            [
             0.1111111111111111,
             "#46039f"
            ],
            [
             0.2222222222222222,
             "#7201a8"
            ],
            [
             0.3333333333333333,
             "#9c179e"
            ],
            [
             0.4444444444444444,
             "#bd3786"
            ],
            [
             0.5555555555555556,
             "#d8576b"
            ],
            [
             0.6666666666666666,
             "#ed7953"
            ],
            [
             0.7777777777777778,
             "#fb9f3a"
            ],
            [
             0.8888888888888888,
             "#fdca26"
            ],
            [
             1,
             "#f0f921"
            ]
           ],
           "sequentialminus": [
            [
             0,
             "#0d0887"
            ],
            [
             0.1111111111111111,
             "#46039f"
            ],
            [
             0.2222222222222222,
             "#7201a8"
            ],
            [
             0.3333333333333333,
             "#9c179e"
            ],
            [
             0.4444444444444444,
             "#bd3786"
            ],
            [
             0.5555555555555556,
             "#d8576b"
            ],
            [
             0.6666666666666666,
             "#ed7953"
            ],
            [
             0.7777777777777778,
             "#fb9f3a"
            ],
            [
             0.8888888888888888,
             "#fdca26"
            ],
            [
             1,
             "#f0f921"
            ]
           ]
          },
          "colorway": [
           "#636efa",
           "#EF553B",
           "#00cc96",
           "#ab63fa",
           "#FFA15A",
           "#19d3f3",
           "#FF6692",
           "#B6E880",
           "#FF97FF",
           "#FECB52"
          ],
          "font": {
           "color": "#2a3f5f"
          },
          "geo": {
           "bgcolor": "white",
           "lakecolor": "white",
           "landcolor": "#E5ECF6",
           "showlakes": true,
           "showland": true,
           "subunitcolor": "white"
          },
          "hoverlabel": {
           "align": "left"
          },
          "hovermode": "closest",
          "mapbox": {
           "style": "light"
          },
          "paper_bgcolor": "white",
          "plot_bgcolor": "#E5ECF6",
          "polar": {
           "angularaxis": {
            "gridcolor": "white",
            "linecolor": "white",
            "ticks": ""
           },
           "bgcolor": "#E5ECF6",
           "radialaxis": {
            "gridcolor": "white",
            "linecolor": "white",
            "ticks": ""
           }
          },
          "scene": {
           "xaxis": {
            "backgroundcolor": "#E5ECF6",
            "gridcolor": "white",
            "gridwidth": 2,
            "linecolor": "white",
            "showbackground": true,
            "ticks": "",
            "zerolinecolor": "white"
           },
           "yaxis": {
            "backgroundcolor": "#E5ECF6",
            "gridcolor": "white",
            "gridwidth": 2,
            "linecolor": "white",
            "showbackground": true,
            "ticks": "",
            "zerolinecolor": "white"
           },
           "zaxis": {
            "backgroundcolor": "#E5ECF6",
            "gridcolor": "white",
            "gridwidth": 2,
            "linecolor": "white",
            "showbackground": true,
            "ticks": "",
            "zerolinecolor": "white"
           }
          },
          "shapedefaults": {
           "line": {
            "color": "#2a3f5f"
           }
          },
          "ternary": {
           "aaxis": {
            "gridcolor": "white",
            "linecolor": "white",
            "ticks": ""
           },
           "baxis": {
            "gridcolor": "white",
            "linecolor": "white",
            "ticks": ""
           },
           "bgcolor": "#E5ECF6",
           "caxis": {
            "gridcolor": "white",
            "linecolor": "white",
            "ticks": ""
           }
          },
          "title": {
           "x": 0.05
          },
          "xaxis": {
           "automargin": true,
           "gridcolor": "white",
           "linecolor": "white",
           "ticks": "",
           "zerolinecolor": "white",
           "zerolinewidth": 2
          },
          "yaxis": {
           "automargin": true,
           "gridcolor": "white",
           "linecolor": "white",
           "ticks": "",
           "zerolinecolor": "white",
           "zerolinewidth": 2
          }
         }
        }
       }
      },
      "text/html": [
       "<div>\n",
       "        \n",
       "        \n",
       "            <div id=\"b8711b22-42c5-446a-843d-92b457d21213\" class=\"plotly-graph-div\" style=\"height:525px; width:100%;\"></div>\n",
       "            <script type=\"text/javascript\">\n",
       "                require([\"plotly\"], function(Plotly) {\n",
       "                    window.PLOTLYENV=window.PLOTLYENV || {};\n",
       "                    \n",
       "                if (document.getElementById(\"b8711b22-42c5-446a-843d-92b457d21213\")) {\n",
       "                    Plotly.newPlot(\n",
       "                        'b8711b22-42c5-446a-843d-92b457d21213',\n",
       "                        [{\"marker\": {\"color\": [\"#9e6bd5\", \"#8851ed\", \"#193a30\", \"#0c5c89\", \"#6b8b69\", \"#fd11fa\", \"#f1f407\", \"#2f6bac\", \"#ed7078\", \"#643ea8\"]}, \"orientation\": \"h\", \"type\": \"bar\", \"x\": [179, 167, 167, 159, 149, 140, 129, 125, 113, 105], \"y\": [\"Charlie THOMPSON\", \"Matthew SAWBRIDGE\", \"Adrian LIHOU\", \"Chris HICKLING\", \"Kieran ASHWORTH\", \"James PRIEST\", \"Clayton BARRETT\", \"Luke RICHARDS\", \"Sammy GALPIN\", \"James DE GARIS\"]}],\n",
       "                        {\"template\": {\"data\": {\"bar\": [{\"error_x\": {\"color\": \"#2a3f5f\"}, \"error_y\": {\"color\": \"#2a3f5f\"}, \"marker\": {\"line\": {\"color\": \"#E5ECF6\", \"width\": 0.5}}, \"type\": \"bar\"}], \"barpolar\": [{\"marker\": {\"line\": {\"color\": \"#E5ECF6\", \"width\": 0.5}}, \"type\": \"barpolar\"}], \"carpet\": [{\"aaxis\": {\"endlinecolor\": \"#2a3f5f\", \"gridcolor\": \"white\", \"linecolor\": \"white\", \"minorgridcolor\": \"white\", \"startlinecolor\": \"#2a3f5f\"}, \"baxis\": {\"endlinecolor\": \"#2a3f5f\", \"gridcolor\": \"white\", \"linecolor\": \"white\", \"minorgridcolor\": \"white\", \"startlinecolor\": \"#2a3f5f\"}, \"type\": \"carpet\"}], \"choropleth\": [{\"colorbar\": {\"outlinewidth\": 0, \"ticks\": \"\"}, \"type\": \"choropleth\"}], \"contour\": [{\"colorbar\": {\"outlinewidth\": 0, \"ticks\": \"\"}, \"colorscale\": [[0.0, \"#0d0887\"], [0.1111111111111111, \"#46039f\"], [0.2222222222222222, \"#7201a8\"], [0.3333333333333333, \"#9c179e\"], [0.4444444444444444, \"#bd3786\"], [0.5555555555555556, \"#d8576b\"], [0.6666666666666666, \"#ed7953\"], [0.7777777777777778, \"#fb9f3a\"], [0.8888888888888888, \"#fdca26\"], [1.0, \"#f0f921\"]], \"type\": \"contour\"}], \"contourcarpet\": [{\"colorbar\": {\"outlinewidth\": 0, \"ticks\": \"\"}, \"type\": \"contourcarpet\"}], \"heatmap\": [{\"colorbar\": {\"outlinewidth\": 0, \"ticks\": \"\"}, \"colorscale\": [[0.0, \"#0d0887\"], [0.1111111111111111, \"#46039f\"], [0.2222222222222222, \"#7201a8\"], [0.3333333333333333, \"#9c179e\"], [0.4444444444444444, \"#bd3786\"], [0.5555555555555556, \"#d8576b\"], [0.6666666666666666, \"#ed7953\"], [0.7777777777777778, \"#fb9f3a\"], [0.8888888888888888, \"#fdca26\"], [1.0, \"#f0f921\"]], \"type\": \"heatmap\"}], \"heatmapgl\": [{\"colorbar\": {\"outlinewidth\": 0, \"ticks\": \"\"}, \"colorscale\": [[0.0, \"#0d0887\"], [0.1111111111111111, \"#46039f\"], [0.2222222222222222, \"#7201a8\"], [0.3333333333333333, \"#9c179e\"], [0.4444444444444444, \"#bd3786\"], [0.5555555555555556, \"#d8576b\"], [0.6666666666666666, \"#ed7953\"], [0.7777777777777778, \"#fb9f3a\"], [0.8888888888888888, \"#fdca26\"], [1.0, \"#f0f921\"]], \"type\": \"heatmapgl\"}], \"histogram\": [{\"marker\": {\"colorbar\": {\"outlinewidth\": 0, \"ticks\": \"\"}}, \"type\": \"histogram\"}], \"histogram2d\": [{\"colorbar\": {\"outlinewidth\": 0, \"ticks\": \"\"}, \"colorscale\": [[0.0, \"#0d0887\"], [0.1111111111111111, \"#46039f\"], [0.2222222222222222, \"#7201a8\"], [0.3333333333333333, \"#9c179e\"], [0.4444444444444444, \"#bd3786\"], [0.5555555555555556, \"#d8576b\"], [0.6666666666666666, \"#ed7953\"], [0.7777777777777778, \"#fb9f3a\"], [0.8888888888888888, \"#fdca26\"], [1.0, \"#f0f921\"]], \"type\": \"histogram2d\"}], \"histogram2dcontour\": [{\"colorbar\": {\"outlinewidth\": 0, \"ticks\": \"\"}, \"colorscale\": [[0.0, \"#0d0887\"], [0.1111111111111111, \"#46039f\"], [0.2222222222222222, \"#7201a8\"], [0.3333333333333333, \"#9c179e\"], [0.4444444444444444, \"#bd3786\"], [0.5555555555555556, \"#d8576b\"], [0.6666666666666666, \"#ed7953\"], [0.7777777777777778, \"#fb9f3a\"], [0.8888888888888888, \"#fdca26\"], [1.0, \"#f0f921\"]], \"type\": \"histogram2dcontour\"}], \"mesh3d\": [{\"colorbar\": {\"outlinewidth\": 0, \"ticks\": \"\"}, \"type\": \"mesh3d\"}], \"parcoords\": [{\"line\": {\"colorbar\": {\"outlinewidth\": 0, \"ticks\": \"\"}}, \"type\": \"parcoords\"}], \"scatter\": [{\"marker\": {\"colorbar\": {\"outlinewidth\": 0, \"ticks\": \"\"}}, \"type\": \"scatter\"}], \"scatter3d\": [{\"line\": {\"colorbar\": {\"outlinewidth\": 0, \"ticks\": \"\"}}, \"marker\": {\"colorbar\": {\"outlinewidth\": 0, \"ticks\": \"\"}}, \"type\": \"scatter3d\"}], \"scattercarpet\": [{\"marker\": {\"colorbar\": {\"outlinewidth\": 0, \"ticks\": \"\"}}, \"type\": \"scattercarpet\"}], \"scattergeo\": [{\"marker\": {\"colorbar\": {\"outlinewidth\": 0, \"ticks\": \"\"}}, \"type\": \"scattergeo\"}], \"scattergl\": [{\"marker\": {\"colorbar\": {\"outlinewidth\": 0, \"ticks\": \"\"}}, \"type\": \"scattergl\"}], \"scattermapbox\": [{\"marker\": {\"colorbar\": {\"outlinewidth\": 0, \"ticks\": \"\"}}, \"type\": \"scattermapbox\"}], \"scatterpolar\": [{\"marker\": {\"colorbar\": {\"outlinewidth\": 0, \"ticks\": \"\"}}, \"type\": \"scatterpolar\"}], \"scatterpolargl\": [{\"marker\": {\"colorbar\": {\"outlinewidth\": 0, \"ticks\": \"\"}}, \"type\": \"scatterpolargl\"}], \"scatterternary\": [{\"marker\": {\"colorbar\": {\"outlinewidth\": 0, \"ticks\": \"\"}}, \"type\": \"scatterternary\"}], \"surface\": [{\"colorbar\": {\"outlinewidth\": 0, \"ticks\": \"\"}, \"colorscale\": [[0.0, \"#0d0887\"], [0.1111111111111111, \"#46039f\"], [0.2222222222222222, \"#7201a8\"], [0.3333333333333333, \"#9c179e\"], [0.4444444444444444, \"#bd3786\"], [0.5555555555555556, \"#d8576b\"], [0.6666666666666666, \"#ed7953\"], [0.7777777777777778, \"#fb9f3a\"], [0.8888888888888888, \"#fdca26\"], [1.0, \"#f0f921\"]], \"type\": \"surface\"}], \"table\": [{\"cells\": {\"fill\": {\"color\": \"#EBF0F8\"}, \"line\": {\"color\": \"white\"}}, \"header\": {\"fill\": {\"color\": \"#C8D4E3\"}, \"line\": {\"color\": \"white\"}}, \"type\": \"table\"}]}, \"layout\": {\"annotationdefaults\": {\"arrowcolor\": \"#2a3f5f\", \"arrowhead\": 0, \"arrowwidth\": 1}, \"colorscale\": {\"diverging\": [[0, \"#8e0152\"], [0.1, \"#c51b7d\"], [0.2, \"#de77ae\"], [0.3, \"#f1b6da\"], [0.4, \"#fde0ef\"], [0.5, \"#f7f7f7\"], [0.6, \"#e6f5d0\"], [0.7, \"#b8e186\"], [0.8, \"#7fbc41\"], [0.9, \"#4d9221\"], [1, \"#276419\"]], \"sequential\": [[0.0, \"#0d0887\"], [0.1111111111111111, \"#46039f\"], [0.2222222222222222, \"#7201a8\"], [0.3333333333333333, \"#9c179e\"], [0.4444444444444444, \"#bd3786\"], [0.5555555555555556, \"#d8576b\"], [0.6666666666666666, \"#ed7953\"], [0.7777777777777778, \"#fb9f3a\"], [0.8888888888888888, \"#fdca26\"], [1.0, \"#f0f921\"]], \"sequentialminus\": [[0.0, \"#0d0887\"], [0.1111111111111111, \"#46039f\"], [0.2222222222222222, \"#7201a8\"], [0.3333333333333333, \"#9c179e\"], [0.4444444444444444, \"#bd3786\"], [0.5555555555555556, \"#d8576b\"], [0.6666666666666666, \"#ed7953\"], [0.7777777777777778, \"#fb9f3a\"], [0.8888888888888888, \"#fdca26\"], [1.0, \"#f0f921\"]]}, \"colorway\": [\"#636efa\", \"#EF553B\", \"#00cc96\", \"#ab63fa\", \"#FFA15A\", \"#19d3f3\", \"#FF6692\", \"#B6E880\", \"#FF97FF\", \"#FECB52\"], \"font\": {\"color\": \"#2a3f5f\"}, \"geo\": {\"bgcolor\": \"white\", \"lakecolor\": \"white\", \"landcolor\": \"#E5ECF6\", \"showlakes\": true, \"showland\": true, \"subunitcolor\": \"white\"}, \"hoverlabel\": {\"align\": \"left\"}, \"hovermode\": \"closest\", \"mapbox\": {\"style\": \"light\"}, \"paper_bgcolor\": \"white\", \"plot_bgcolor\": \"#E5ECF6\", \"polar\": {\"angularaxis\": {\"gridcolor\": \"white\", \"linecolor\": \"white\", \"ticks\": \"\"}, \"bgcolor\": \"#E5ECF6\", \"radialaxis\": {\"gridcolor\": \"white\", \"linecolor\": \"white\", \"ticks\": \"\"}}, \"scene\": {\"xaxis\": {\"backgroundcolor\": \"#E5ECF6\", \"gridcolor\": \"white\", \"gridwidth\": 2, \"linecolor\": \"white\", \"showbackground\": true, \"ticks\": \"\", \"zerolinecolor\": \"white\"}, \"yaxis\": {\"backgroundcolor\": \"#E5ECF6\", \"gridcolor\": \"white\", \"gridwidth\": 2, \"linecolor\": \"white\", \"showbackground\": true, \"ticks\": \"\", \"zerolinecolor\": \"white\"}, \"zaxis\": {\"backgroundcolor\": \"#E5ECF6\", \"gridcolor\": \"white\", \"gridwidth\": 2, \"linecolor\": \"white\", \"showbackground\": true, \"ticks\": \"\", \"zerolinecolor\": \"white\"}}, \"shapedefaults\": {\"line\": {\"color\": \"#2a3f5f\"}}, \"ternary\": {\"aaxis\": {\"gridcolor\": \"white\", \"linecolor\": \"white\", \"ticks\": \"\"}, \"baxis\": {\"gridcolor\": \"white\", \"linecolor\": \"white\", \"ticks\": \"\"}, \"bgcolor\": \"#E5ECF6\", \"caxis\": {\"gridcolor\": \"white\", \"linecolor\": \"white\", \"ticks\": \"\"}}, \"title\": {\"x\": 0.05}, \"xaxis\": {\"automargin\": true, \"gridcolor\": \"white\", \"linecolor\": \"white\", \"ticks\": \"\", \"zerolinecolor\": \"white\", \"zerolinewidth\": 2}, \"yaxis\": {\"automargin\": true, \"gridcolor\": \"white\", \"linecolor\": \"white\", \"ticks\": \"\", \"zerolinecolor\": \"white\", \"zerolinewidth\": 2}}}},\n",
       "                        {\"responsive\": true}\n",
       "                    ).then(function(){\n",
       "                            \n",
       "var gd = document.getElementById('b8711b22-42c5-446a-843d-92b457d21213');\n",
       "var x = new MutationObserver(function (mutations, observer) {{\n",
       "        var display = window.getComputedStyle(gd).display;\n",
       "        if (!display || display === 'none') {{\n",
       "            console.log([gd, 'removed!']);\n",
       "            Plotly.purge(gd);\n",
       "            observer.disconnect();\n",
       "        }}\n",
       "}});\n",
       "\n",
       "// Listen for the removal of the full notebook cells\n",
       "var notebookContainer = gd.closest('#notebook-container');\n",
       "if (notebookContainer) {{\n",
       "    x.observe(notebookContainer, {childList: true});\n",
       "}}\n",
       "\n",
       "// Listen for the clearing of the current output cell\n",
       "var outputEl = gd.closest('.output');\n",
       "if (outputEl) {{\n",
       "    x.observe(outputEl, {childList: true});\n",
       "}}\n",
       "\n",
       "                        })\n",
       "                };\n",
       "                });\n",
       "            </script>\n",
       "        </div>"
      ]
     },
     "metadata": {},
     "output_type": "display_data"
    }
   ],
   "source": [
    "from IPython.display import clear_output\n",
    "import plotly.graph_objects as go\n",
    "import time\n",
    "x, y, m = bar_for_chunk(0)\n",
    "fig = go.Figure([go.Bar(y=y, x=x, orientation='h', marker_color=m)])\n",
    "fig"
   ]
  },
  {
   "cell_type": "code",
   "execution_count": 34,
   "metadata": {},
   "outputs": [],
   "source": [
    "frames = []\n",
    "for i in range(1,top_10_in_chunk[\"ChunkNum\"].max()):\n",
    "    x, y, m = bar_for_chunk(i)\n",
    "    dat = go.Bar(y=y, x=x, orientation='h', marker_color=m)\n",
    "    frames.append({\"data\":dat, \"name\":f\"{i}\"})\n",
    "fig[\"frames\"] = frames"
   ]
  },
  {
   "cell_type": "code",
   "execution_count": 36,
   "metadata": {},
   "outputs": [
    {
     "data": {
      "application/vnd.plotly.v1+json": {
       "config": {
        "linkText": "Export to plot.ly",
        "plotlyServerURL": "https://plot.ly",
        "showLink": "parkrun"
       },
       "data": [
        {
         "marker": {
          "color": [
           "#9e6bd5",
           "#8851ed",
           "#193a30",
           "#0c5c89",
           "#6b8b69",
           "#fd11fa",
           "#f1f407",
           "#2f6bac",
           "#ed7078",
           "#643ea8"
          ]
         },
         "orientation": "h",
         "type": "bar",
         "x": [
          179,
          167,
          167,
          159,
          149,
          140,
          129,
          125,
          113,
          105
         ],
         "y": [
          "Charlie THOMPSON",
          "Matthew SAWBRIDGE",
          "Adrian LIHOU",
          "Chris HICKLING",
          "Kieran ASHWORTH",
          "James PRIEST",
          "Clayton BARRETT",
          "Luke RICHARDS",
          "Sammy GALPIN",
          "James DE GARIS"
         ]
        }
       ],
       "frames": [
        {
         "data": [
          {
           "marker": {
            "color": [
             "#31d802",
             "#9e6bd5",
             "#e93575",
             "#1a8ceb",
             "#0c5c89",
             "#537a95",
             "#047964",
             "#e948a5",
             "#6222b1",
             "#845e81"
            ]
           },
           "orientation": "h",
           "type": "bar",
           "x": [
            164,
            163,
            154,
            142,
            141,
            111,
            90,
            80,
            79,
            61
           ],
           "y": [
            "Philip SMITH",
            "Charlie THOMPSON",
            "Michael WILSON",
            "Jamie INGROUILLE",
            "Chris HICKLING",
            "Gary DODD",
            "Tony CLARKSON",
            "Tristan ROBILLIARD",
            "Mike WILESMITH",
            "Lee GARLAND"
           ]
          }
         ],
         "name": "1"
        },
        {
         "data": [
          {
           "marker": {
            "color": [
             "#5c173d",
             "#4f38ea",
             "#31d802",
             "#537a95",
             "#7cdbfe",
             "#c3b2b4",
             "#fd11fa",
             "#8a69f5",
             "#c912f9",
             "#6222b1"
            ]
           },
           "orientation": "h",
           "type": "bar",
           "x": [
            142,
            142,
            130,
            128,
            104,
            88,
            87,
            70,
            55,
            33
           ],
           "y": [
            "Jerym BRUNTON",
            "Mark JEFFREYS",
            "Philip SMITH",
            "Gary DODD",
            "Taylor HUXSTER",
            "Ben WILEN",
            "James PRIEST",
            "Alan ROWE",
            "Jason JAMES",
            "Mike WILESMITH"
           ]
          }
         ],
         "name": "2"
        },
        {
         "data": [
          {
           "marker": {
            "color": [
             "#a343c5",
             "#a3e1c4",
             "#0f6591",
             "#0c5c89",
             "#acfa13",
             "#4f38ea",
             "#537a95",
             "#c912f9",
             "#6222b1",
             "#23c75c"
            ]
           },
           "orientation": "h",
           "type": "bar",
           "x": [
            186,
            182,
            176,
            165,
            157,
            146,
            120,
            118,
            100,
            53
           ],
           "y": [
            "Ben FOOTE",
            "Jesus GONZALEZ MORENO",
            "Tom PASSEY",
            "Chris HICKLING",
            "Toby GRICE",
            "Mark JEFFREYS",
            "Gary DODD",
            "Jason JAMES",
            "Mike WILESMITH",
            "Carl HOLDEN"
           ]
          }
         ],
         "name": "3"
        },
        {
         "data": [
          {
           "marker": {
            "color": [
             "#0e1ede",
             "#537a95",
             "#bef423",
             "#0761c1",
             "#3bfd97",
             "#35109e",
             "#fd11fa",
             "#4f38ea",
             "#c181a4",
             "#643ea8"
            ]
           },
           "orientation": "h",
           "type": "bar",
           "x": [
            241,
            240,
            225,
            197,
            195,
            185,
            172,
            142,
            123,
            95
           ],
           "y": [
            "Paul HEWITT",
            "Gary DODD",
            "Steve MANKLOW",
            "Tom SHAW",
            "Richard BARTRAM",
            "Adam THOUMINE",
            "James PRIEST",
            "Mark JEFFREYS",
            "Stuart LE NOURY",
            "James DE GARIS"
           ]
          }
         ],
         "name": "4"
        },
        {
         "data": [
          {
           "marker": {
            "color": [
             "#c181a4",
             "#4f38ea",
             "#866a37",
             "#fd11fa",
             "#537a95",
             "#c3b2b4",
             "#643ea8",
             "#a6a253",
             "#94a838",
             "#4a66bf"
            ]
           },
           "orientation": "h",
           "type": "bar",
           "x": [
            127,
            123,
            114,
            112,
            87,
            85,
            80,
            34,
            30,
            15
           ],
           "y": [
            "Stuart LE NOURY",
            "Mark JEFFREYS",
            "Ed BARLOW",
            "James PRIEST",
            "Gary DODD",
            "Ben WILEN",
            "James DE GARIS",
            "Steve DAWES",
            "Oliver SMITH",
            "David EMERY"
           ]
          }
         ],
         "name": "5"
        },
        {
         "data": [
          {
           "marker": {
            "color": [
             "#9e6bd5",
             "#8c31ae",
             "#69f527",
             "#643ea8",
             "#4f38ea",
             "#d99930",
             "#375761",
             "#537a95",
             "#ecaa75",
             "#2f6bac"
            ]
           },
           "orientation": "h",
           "type": "bar",
           "x": [
            119,
            116,
            114,
            107,
            101,
            101,
            96,
            96,
            93,
            65
           ],
           "y": [
            "Charlie THOMPSON",
            "Simon INGROUILLE",
            "Sam LESLEY",
            "James DE GARIS",
            "Mark JEFFREYS",
            "Chris GILLMAN",
            "Nic BAILEY",
            "Gary DODD",
            "Robbie FERGUSON",
            "Luke RICHARDS"
           ]
          }
         ],
         "name": "6"
        },
        {
         "data": [
          {
           "marker": {
            "color": [
             "#fdf2cc",
             "#4f38ea",
             "#7ead47",
             "#f88314",
             "#7cdbfe",
             "#fd11fa",
             "#643ea8",
             "#c3b2b4",
             "#c912f9",
             "#4a66bf"
            ]
           },
           "orientation": "h",
           "type": "bar",
           "x": [
            128,
            118,
            117,
            93,
            84,
            76,
            73,
            66,
            50,
            25
           ],
           "y": [
            "Richard HANN",
            "Mark JEFFREYS",
            "Richard LARGE",
            "John BUSBY",
            "Taylor HUXSTER",
            "James PRIEST",
            "James DE GARIS",
            "Ben WILEN",
            "Jason JAMES",
            "David EMERY"
           ]
          }
         ],
         "name": "7"
        },
        {
         "data": [
          {
           "marker": {
            "color": [
             "#5103f0",
             "#e24969",
             "#31d802",
             "#23c233",
             "#193a30",
             "#5c173d",
             "#643ea8",
             "#8c31ae",
             "#4a66bf",
             "#4afbfc"
            ]
           },
           "orientation": "h",
           "type": "bar",
           "x": [
            184,
            183,
            151,
            146,
            128,
            128,
            119,
            115,
            78,
            73
           ],
           "y": [
            "Sebastian FOY",
            "Andy HATTON",
            "Philip SMITH",
            "Rob BYRNE",
            "Adrian LIHOU",
            "Jerym BRUNTON",
            "James DE GARIS",
            "Simon INGROUILLE",
            "David EMERY",
            "Joseph TRIM"
           ]
          }
         ],
         "name": "8"
        },
        {
         "data": [
          {
           "marker": {
            "color": [
             "#a343c5",
             "#f9fe65",
             "#e24969",
             "#7e54cc",
             "#6b8b69",
             "#9e6bd5",
             "#562f75",
             "#643ea8",
             "#4f38ea",
             "#a6a253"
            ]
           },
           "orientation": "h",
           "type": "bar",
           "x": [
            254,
            244,
            243,
            234,
            232,
            222,
            217,
            204,
            181,
            55
           ],
           "y": [
            "Ben FOOTE",
            "Pete SARGENT",
            "Andy HATTON",
            "Colin JEFFREYS",
            "Kieran ASHWORTH",
            "Charlie THOMPSON",
            "Adam KNIGHT",
            "James DE GARIS",
            "Mark JEFFREYS",
            "Steve DAWES"
           ]
          }
         ],
         "name": "9"
        },
        {
         "data": [
          {
           "marker": {
            "color": [
             "#9e6bd5",
             "#67924b",
             "#193a30",
             "#866a37",
             "#69f527",
             "#9dc8ff",
             "#345135",
             "#c3b2b4",
             "#fd11fa",
             "#1195dc"
            ]
           },
           "orientation": "h",
           "type": "bar",
           "x": [
            151,
            134,
            128,
            127,
            124,
            107,
            93,
            60,
            55,
            21
           ],
           "y": [
            "Charlie THOMPSON",
            "Harry BERTRAM",
            "Adrian LIHOU",
            "Ed BARLOW",
            "Sam LESLEY",
            "Matthew HOGARTH",
            "Chris MOLLOY",
            "Ben WILEN",
            "James PRIEST",
            "Andrew VAN KINTS"
           ]
          }
         ],
         "name": "10"
        },
        {
         "data": [
          {
           "marker": {
            "color": [
             "#7e54cc",
             "#8c31ae",
             "#9e6bd5",
             "#6a9c31",
             "#2a47a2",
             "#fdf2cc",
             "#74e5b7",
             "#acaf0e",
             "#1195dc",
             "#0bd4c1"
            ]
           },
           "orientation": "h",
           "type": "bar",
           "x": [
            150,
            145,
            143,
            134,
            86,
            75,
            72,
            70,
            37,
            0
           ],
           "y": [
            "Colin JEFFREYS",
            "Simon INGROUILLE",
            "Charlie THOMPSON",
            "Al RILEY",
            "Barny O'NEILL",
            "Richard HANN",
            "Matthew GRANTHAM",
            "Alexander James TATE",
            "Andrew VAN KINTS",
            "Michael BATISTE"
           ]
          }
         ],
         "name": "11"
        },
        {
         "data": [
          {
           "marker": {
            "color": [
             "#69f527",
             "#dc62ee",
             "#9c18dd",
             "#c912f9",
             "#7cdbfe",
             "#55d9fd",
             "#643ea8",
             "#fd11fa",
             "#1a84fc",
             "#46dbff"
            ]
           },
           "orientation": "h",
           "type": "bar",
           "x": [
            103,
            92,
            85,
            75,
            70,
            70,
            56,
            25,
            12,
            3
           ],
           "y": [
            "Sam LESLEY",
            "Steve LATHAM",
            "Michael ILOTT",
            "Jason JAMES",
            "Taylor HUXSTER",
            "Louise PERRIO",
            "James DE GARIS",
            "James PRIEST",
            "Ryan MCCRICKERD",
            "James ESPIE"
           ]
          }
         ],
         "name": "12"
        },
        {
         "data": [
          {
           "marker": {
            "color": [
             "#5ea00b",
             "#bef423",
             "#3679c8",
             "#4f38ea",
             "#69f527",
             "#c181a4",
             "#7d4d09",
             "#dae9bf",
             "#f9fe65",
             "#9e6bd5"
            ]
           },
           "orientation": "h",
           "type": "bar",
           "x": [
            194,
            189,
            183,
            181,
            175,
            175,
            162,
            141,
            130,
            114
           ],
           "y": [
            "Richard THORBURN",
            "Steve MANKLOW",
            "Nick HYNES",
            "Mark JEFFREYS",
            "Sam LESLEY",
            "Stuart LE NOURY",
            "Stuart KIRKLAND",
            "James HERVE",
            "Pete SARGENT",
            "Charlie THOMPSON"
           ]
          }
         ],
         "name": "13"
        },
        {
         "data": [
          {
           "marker": {
            "color": [
             "#7d4d09",
             "#c181a4",
             "#2f6bac",
             "#57890c",
             "#7e54cc",
             "#4a66bf",
             "#9865c1",
             "#69f527",
             "#badb3f",
             "#489015"
            ]
           },
           "orientation": "h",
           "type": "bar",
           "x": [
            267,
            256,
            253,
            252,
            251,
            248,
            198,
            191,
            190,
            186
           ],
           "y": [
            "Stuart KIRKLAND",
            "Stuart LE NOURY",
            "Luke RICHARDS",
            "James TIPPER",
            "Colin JEFFREYS",
            "David EMERY",
            "Joshua BRIEN",
            "Sam LESLEY",
            "Nick MANN",
            "Tom JOHNSON"
           ]
          }
         ],
         "name": "14"
        },
        {
         "data": [
          {
           "marker": {
            "color": [
             "#bef423",
             "#b4ea30",
             "#675da2",
             "#f306cd",
             "#5ea00b",
             "#489015",
             "#4a66bf",
             "#643ea8",
             "#5ef5e2",
             "#9e6bd5"
            ]
           },
           "orientation": "h",
           "type": "bar",
           "x": [
            210,
            210,
            209,
            201,
            194,
            183,
            169,
            169,
            159,
            154
           ],
           "y": [
            "Steve MANKLOW",
            "Daniel KING",
            "Philip HUGO",
            "Shane HUXSTER",
            "Richard THORBURN",
            "Tom JOHNSON",
            "David EMERY",
            "James DE GARIS",
            "Mark BURLEY",
            "Charlie THOMPSON"
           ]
          }
         ],
         "name": "15"
        },
        {
         "data": [
          {
           "marker": {
            "color": [
             "#a851b1",
             "#643ea8",
             "#9dc8ff",
             "#f306cd",
             "#643c89",
             "#f66c05",
             "#2fe6a8",
             "#4a66bf",
             "#69f527",
             "#ec30f9"
            ]
           },
           "orientation": "h",
           "type": "bar",
           "x": [
            133,
            130,
            116,
            110,
            110,
            98,
            89,
            75,
            62,
            35
           ],
           "y": [
            "Isaac BATE",
            "James DE GARIS",
            "Matthew HOGARTH",
            "Shane HUXSTER",
            "James FORD",
            "Matthew SALT",
            "Jimmy ADAMS",
            "David EMERY",
            "Sam LESLEY",
            "Simon COLE"
           ]
          }
         ],
         "name": "16"
        }
       ],
       "layout": {
        "template": {
         "data": {
          "bar": [
           {
            "error_x": {
             "color": "#2a3f5f"
            },
            "error_y": {
             "color": "#2a3f5f"
            },
            "marker": {
             "line": {
              "color": "#E5ECF6",
              "width": 0.5
             }
            },
            "type": "bar"
           }
          ],
          "barpolar": [
           {
            "marker": {
             "line": {
              "color": "#E5ECF6",
              "width": 0.5
             }
            },
            "type": "barpolar"
           }
          ],
          "carpet": [
           {
            "aaxis": {
             "endlinecolor": "#2a3f5f",
             "gridcolor": "white",
             "linecolor": "white",
             "minorgridcolor": "white",
             "startlinecolor": "#2a3f5f"
            },
            "baxis": {
             "endlinecolor": "#2a3f5f",
             "gridcolor": "white",
             "linecolor": "white",
             "minorgridcolor": "white",
             "startlinecolor": "#2a3f5f"
            },
            "type": "carpet"
           }
          ],
          "choropleth": [
           {
            "colorbar": {
             "outlinewidth": 0,
             "ticks": ""
            },
            "type": "choropleth"
           }
          ],
          "contour": [
           {
            "colorbar": {
             "outlinewidth": 0,
             "ticks": ""
            },
            "colorscale": [
             [
              0,
              "#0d0887"
             ],
             [
              0.1111111111111111,
              "#46039f"
             ],
             [
              0.2222222222222222,
              "#7201a8"
             ],
             [
              0.3333333333333333,
              "#9c179e"
             ],
             [
              0.4444444444444444,
              "#bd3786"
             ],
             [
              0.5555555555555556,
              "#d8576b"
             ],
             [
              0.6666666666666666,
              "#ed7953"
             ],
             [
              0.7777777777777778,
              "#fb9f3a"
             ],
             [
              0.8888888888888888,
              "#fdca26"
             ],
             [
              1,
              "#f0f921"
             ]
            ],
            "type": "contour"
           }
          ],
          "contourcarpet": [
           {
            "colorbar": {
             "outlinewidth": 0,
             "ticks": ""
            },
            "type": "contourcarpet"
           }
          ],
          "heatmap": [
           {
            "colorbar": {
             "outlinewidth": 0,
             "ticks": ""
            },
            "colorscale": [
             [
              0,
              "#0d0887"
             ],
             [
              0.1111111111111111,
              "#46039f"
             ],
             [
              0.2222222222222222,
              "#7201a8"
             ],
             [
              0.3333333333333333,
              "#9c179e"
             ],
             [
              0.4444444444444444,
              "#bd3786"
             ],
             [
              0.5555555555555556,
              "#d8576b"
             ],
             [
              0.6666666666666666,
              "#ed7953"
             ],
             [
              0.7777777777777778,
              "#fb9f3a"
             ],
             [
              0.8888888888888888,
              "#fdca26"
             ],
             [
              1,
              "#f0f921"
             ]
            ],
            "type": "heatmap"
           }
          ],
          "heatmapgl": [
           {
            "colorbar": {
             "outlinewidth": 0,
             "ticks": ""
            },
            "colorscale": [
             [
              0,
              "#0d0887"
             ],
             [
              0.1111111111111111,
              "#46039f"
             ],
             [
              0.2222222222222222,
              "#7201a8"
             ],
             [
              0.3333333333333333,
              "#9c179e"
             ],
             [
              0.4444444444444444,
              "#bd3786"
             ],
             [
              0.5555555555555556,
              "#d8576b"
             ],
             [
              0.6666666666666666,
              "#ed7953"
             ],
             [
              0.7777777777777778,
              "#fb9f3a"
             ],
             [
              0.8888888888888888,
              "#fdca26"
             ],
             [
              1,
              "#f0f921"
             ]
            ],
            "type": "heatmapgl"
           }
          ],
          "histogram": [
           {
            "marker": {
             "colorbar": {
              "outlinewidth": 0,
              "ticks": ""
             }
            },
            "type": "histogram"
           }
          ],
          "histogram2d": [
           {
            "colorbar": {
             "outlinewidth": 0,
             "ticks": ""
            },
            "colorscale": [
             [
              0,
              "#0d0887"
             ],
             [
              0.1111111111111111,
              "#46039f"
             ],
             [
              0.2222222222222222,
              "#7201a8"
             ],
             [
              0.3333333333333333,
              "#9c179e"
             ],
             [
              0.4444444444444444,
              "#bd3786"
             ],
             [
              0.5555555555555556,
              "#d8576b"
             ],
             [
              0.6666666666666666,
              "#ed7953"
             ],
             [
              0.7777777777777778,
              "#fb9f3a"
             ],
             [
              0.8888888888888888,
              "#fdca26"
             ],
             [
              1,
              "#f0f921"
             ]
            ],
            "type": "histogram2d"
           }
          ],
          "histogram2dcontour": [
           {
            "colorbar": {
             "outlinewidth": 0,
             "ticks": ""
            },
            "colorscale": [
             [
              0,
              "#0d0887"
             ],
             [
              0.1111111111111111,
              "#46039f"
             ],
             [
              0.2222222222222222,
              "#7201a8"
             ],
             [
              0.3333333333333333,
              "#9c179e"
             ],
             [
              0.4444444444444444,
              "#bd3786"
             ],
             [
              0.5555555555555556,
              "#d8576b"
             ],
             [
              0.6666666666666666,
              "#ed7953"
             ],
             [
              0.7777777777777778,
              "#fb9f3a"
             ],
             [
              0.8888888888888888,
              "#fdca26"
             ],
             [
              1,
              "#f0f921"
             ]
            ],
            "type": "histogram2dcontour"
           }
          ],
          "mesh3d": [
           {
            "colorbar": {
             "outlinewidth": 0,
             "ticks": ""
            },
            "type": "mesh3d"
           }
          ],
          "parcoords": [
           {
            "line": {
             "colorbar": {
              "outlinewidth": 0,
              "ticks": ""
             }
            },
            "type": "parcoords"
           }
          ],
          "scatter": [
           {
            "marker": {
             "colorbar": {
              "outlinewidth": 0,
              "ticks": ""
             }
            },
            "type": "scatter"
           }
          ],
          "scatter3d": [
           {
            "line": {
             "colorbar": {
              "outlinewidth": 0,
              "ticks": ""
             }
            },
            "marker": {
             "colorbar": {
              "outlinewidth": 0,
              "ticks": ""
             }
            },
            "type": "scatter3d"
           }
          ],
          "scattercarpet": [
           {
            "marker": {
             "colorbar": {
              "outlinewidth": 0,
              "ticks": ""
             }
            },
            "type": "scattercarpet"
           }
          ],
          "scattergeo": [
           {
            "marker": {
             "colorbar": {
              "outlinewidth": 0,
              "ticks": ""
             }
            },
            "type": "scattergeo"
           }
          ],
          "scattergl": [
           {
            "marker": {
             "colorbar": {
              "outlinewidth": 0,
              "ticks": ""
             }
            },
            "type": "scattergl"
           }
          ],
          "scattermapbox": [
           {
            "marker": {
             "colorbar": {
              "outlinewidth": 0,
              "ticks": ""
             }
            },
            "type": "scattermapbox"
           }
          ],
          "scatterpolar": [
           {
            "marker": {
             "colorbar": {
              "outlinewidth": 0,
              "ticks": ""
             }
            },
            "type": "scatterpolar"
           }
          ],
          "scatterpolargl": [
           {
            "marker": {
             "colorbar": {
              "outlinewidth": 0,
              "ticks": ""
             }
            },
            "type": "scatterpolargl"
           }
          ],
          "scatterternary": [
           {
            "marker": {
             "colorbar": {
              "outlinewidth": 0,
              "ticks": ""
             }
            },
            "type": "scatterternary"
           }
          ],
          "surface": [
           {
            "colorbar": {
             "outlinewidth": 0,
             "ticks": ""
            },
            "colorscale": [
             [
              0,
              "#0d0887"
             ],
             [
              0.1111111111111111,
              "#46039f"
             ],
             [
              0.2222222222222222,
              "#7201a8"
             ],
             [
              0.3333333333333333,
              "#9c179e"
             ],
             [
              0.4444444444444444,
              "#bd3786"
             ],
             [
              0.5555555555555556,
              "#d8576b"
             ],
             [
              0.6666666666666666,
              "#ed7953"
             ],
             [
              0.7777777777777778,
              "#fb9f3a"
             ],
             [
              0.8888888888888888,
              "#fdca26"
             ],
             [
              1,
              "#f0f921"
             ]
            ],
            "type": "surface"
           }
          ],
          "table": [
           {
            "cells": {
             "fill": {
              "color": "#EBF0F8"
             },
             "line": {
              "color": "white"
             }
            },
            "header": {
             "fill": {
              "color": "#C8D4E3"
             },
             "line": {
              "color": "white"
             }
            },
            "type": "table"
           }
          ]
         },
         "layout": {
          "annotationdefaults": {
           "arrowcolor": "#2a3f5f",
           "arrowhead": 0,
           "arrowwidth": 1
          },
          "colorscale": {
           "diverging": [
            [
             0,
             "#8e0152"
            ],
            [
             0.1,
             "#c51b7d"
            ],
            [
             0.2,
             "#de77ae"
            ],
            [
             0.3,
             "#f1b6da"
            ],
            [
             0.4,
             "#fde0ef"
            ],
            [
             0.5,
             "#f7f7f7"
            ],
            [
             0.6,
             "#e6f5d0"
            ],
            [
             0.7,
             "#b8e186"
            ],
            [
             0.8,
             "#7fbc41"
            ],
            [
             0.9,
             "#4d9221"
            ],
            [
             1,
             "#276419"
            ]
           ],
           "sequential": [
            [
             0,
             "#0d0887"
            ],
            [
             0.1111111111111111,
             "#46039f"
            ],
            [
             0.2222222222222222,
             "#7201a8"
            ],
            [
             0.3333333333333333,
             "#9c179e"
            ],
            [
             0.4444444444444444,
             "#bd3786"
            ],
            [
             0.5555555555555556,
             "#d8576b"
            ],
            [
             0.6666666666666666,
             "#ed7953"
            ],
            [
             0.7777777777777778,
             "#fb9f3a"
            ],
            [
             0.8888888888888888,
             "#fdca26"
            ],
            [
             1,
             "#f0f921"
            ]
           ],
           "sequentialminus": [
            [
             0,
             "#0d0887"
            ],
            [
             0.1111111111111111,
             "#46039f"
            ],
            [
             0.2222222222222222,
             "#7201a8"
            ],
            [
             0.3333333333333333,
             "#9c179e"
            ],
            [
             0.4444444444444444,
             "#bd3786"
            ],
            [
             0.5555555555555556,
             "#d8576b"
            ],
            [
             0.6666666666666666,
             "#ed7953"
            ],
            [
             0.7777777777777778,
             "#fb9f3a"
            ],
            [
             0.8888888888888888,
             "#fdca26"
            ],
            [
             1,
             "#f0f921"
            ]
           ]
          },
          "colorway": [
           "#636efa",
           "#EF553B",
           "#00cc96",
           "#ab63fa",
           "#FFA15A",
           "#19d3f3",
           "#FF6692",
           "#B6E880",
           "#FF97FF",
           "#FECB52"
          ],
          "font": {
           "color": "#2a3f5f"
          },
          "geo": {
           "bgcolor": "white",
           "lakecolor": "white",
           "landcolor": "#E5ECF6",
           "showlakes": true,
           "showland": true,
           "subunitcolor": "white"
          },
          "hoverlabel": {
           "align": "left"
          },
          "hovermode": "closest",
          "mapbox": {
           "style": "light"
          },
          "paper_bgcolor": "white",
          "plot_bgcolor": "#E5ECF6",
          "polar": {
           "angularaxis": {
            "gridcolor": "white",
            "linecolor": "white",
            "ticks": ""
           },
           "bgcolor": "#E5ECF6",
           "radialaxis": {
            "gridcolor": "white",
            "linecolor": "white",
            "ticks": ""
           }
          },
          "scene": {
           "xaxis": {
            "backgroundcolor": "#E5ECF6",
            "gridcolor": "white",
            "gridwidth": 2,
            "linecolor": "white",
            "showbackground": true,
            "ticks": "",
            "zerolinecolor": "white"
           },
           "yaxis": {
            "backgroundcolor": "#E5ECF6",
            "gridcolor": "white",
            "gridwidth": 2,
            "linecolor": "white",
            "showbackground": true,
            "ticks": "",
            "zerolinecolor": "white"
           },
           "zaxis": {
            "backgroundcolor": "#E5ECF6",
            "gridcolor": "white",
            "gridwidth": 2,
            "linecolor": "white",
            "showbackground": true,
            "ticks": "",
            "zerolinecolor": "white"
           }
          },
          "shapedefaults": {
           "line": {
            "color": "#2a3f5f"
           }
          },
          "ternary": {
           "aaxis": {
            "gridcolor": "white",
            "linecolor": "white",
            "ticks": ""
           },
           "baxis": {
            "gridcolor": "white",
            "linecolor": "white",
            "ticks": ""
           },
           "bgcolor": "#E5ECF6",
           "caxis": {
            "gridcolor": "white",
            "linecolor": "white",
            "ticks": ""
           }
          },
          "title": {
           "x": 0.05
          },
          "xaxis": {
           "automargin": true,
           "gridcolor": "white",
           "linecolor": "white",
           "ticks": "",
           "zerolinecolor": "white",
           "zerolinewidth": 2
          },
          "yaxis": {
           "automargin": true,
           "gridcolor": "white",
           "linecolor": "white",
           "ticks": "",
           "zerolinecolor": "white",
           "zerolinewidth": 2
          }
         }
        }
       }
      },
      "text/html": [
       "<div>\n",
       "        \n",
       "        \n",
       "            <div id=\"544b7e82-0668-44ca-b7e0-ab5b3757bddc\" class=\"plotly-graph-div\" style=\"height:525px; width:100%;\"></div>\n",
       "            <script type=\"text/javascript\">\n",
       "                require([\"plotly\"], function(Plotly) {\n",
       "                    window.PLOTLYENV=window.PLOTLYENV || {};\n",
       "                    window.PLOTLYENV.BASE_URL='https://plot.ly';\n",
       "                    \n",
       "                if (document.getElementById(\"544b7e82-0668-44ca-b7e0-ab5b3757bddc\")) {\n",
       "                    Plotly.newPlot(\n",
       "                        '544b7e82-0668-44ca-b7e0-ab5b3757bddc',\n",
       "                        [{\"marker\": {\"color\": [\"#9e6bd5\", \"#8851ed\", \"#193a30\", \"#0c5c89\", \"#6b8b69\", \"#fd11fa\", \"#f1f407\", \"#2f6bac\", \"#ed7078\", \"#643ea8\"]}, \"orientation\": \"h\", \"type\": \"bar\", \"x\": [179, 167, 167, 159, 149, 140, 129, 125, 113, 105], \"y\": [\"Charlie THOMPSON\", \"Matthew SAWBRIDGE\", \"Adrian LIHOU\", \"Chris HICKLING\", \"Kieran ASHWORTH\", \"James PRIEST\", \"Clayton BARRETT\", \"Luke RICHARDS\", \"Sammy GALPIN\", \"James DE GARIS\"]}],\n",
       "                        {\"template\": {\"data\": {\"bar\": [{\"error_x\": {\"color\": \"#2a3f5f\"}, \"error_y\": {\"color\": \"#2a3f5f\"}, \"marker\": {\"line\": {\"color\": \"#E5ECF6\", \"width\": 0.5}}, \"type\": \"bar\"}], \"barpolar\": [{\"marker\": {\"line\": {\"color\": \"#E5ECF6\", \"width\": 0.5}}, \"type\": \"barpolar\"}], \"carpet\": [{\"aaxis\": {\"endlinecolor\": \"#2a3f5f\", \"gridcolor\": \"white\", \"linecolor\": \"white\", \"minorgridcolor\": \"white\", \"startlinecolor\": \"#2a3f5f\"}, \"baxis\": {\"endlinecolor\": \"#2a3f5f\", \"gridcolor\": \"white\", \"linecolor\": \"white\", \"minorgridcolor\": \"white\", \"startlinecolor\": \"#2a3f5f\"}, \"type\": \"carpet\"}], \"choropleth\": [{\"colorbar\": {\"outlinewidth\": 0, \"ticks\": \"\"}, \"type\": \"choropleth\"}], \"contour\": [{\"colorbar\": {\"outlinewidth\": 0, \"ticks\": \"\"}, \"colorscale\": [[0.0, \"#0d0887\"], [0.1111111111111111, \"#46039f\"], [0.2222222222222222, \"#7201a8\"], [0.3333333333333333, \"#9c179e\"], [0.4444444444444444, \"#bd3786\"], [0.5555555555555556, \"#d8576b\"], [0.6666666666666666, \"#ed7953\"], [0.7777777777777778, \"#fb9f3a\"], [0.8888888888888888, \"#fdca26\"], [1.0, \"#f0f921\"]], \"type\": \"contour\"}], \"contourcarpet\": [{\"colorbar\": {\"outlinewidth\": 0, \"ticks\": \"\"}, \"type\": \"contourcarpet\"}], \"heatmap\": [{\"colorbar\": {\"outlinewidth\": 0, \"ticks\": \"\"}, \"colorscale\": [[0.0, \"#0d0887\"], [0.1111111111111111, \"#46039f\"], [0.2222222222222222, \"#7201a8\"], [0.3333333333333333, \"#9c179e\"], [0.4444444444444444, \"#bd3786\"], [0.5555555555555556, \"#d8576b\"], [0.6666666666666666, \"#ed7953\"], [0.7777777777777778, \"#fb9f3a\"], [0.8888888888888888, \"#fdca26\"], [1.0, \"#f0f921\"]], \"type\": \"heatmap\"}], \"heatmapgl\": [{\"colorbar\": {\"outlinewidth\": 0, \"ticks\": \"\"}, \"colorscale\": [[0.0, \"#0d0887\"], [0.1111111111111111, \"#46039f\"], [0.2222222222222222, \"#7201a8\"], [0.3333333333333333, \"#9c179e\"], [0.4444444444444444, \"#bd3786\"], [0.5555555555555556, \"#d8576b\"], [0.6666666666666666, \"#ed7953\"], [0.7777777777777778, \"#fb9f3a\"], [0.8888888888888888, \"#fdca26\"], [1.0, \"#f0f921\"]], \"type\": \"heatmapgl\"}], \"histogram\": [{\"marker\": {\"colorbar\": {\"outlinewidth\": 0, \"ticks\": \"\"}}, \"type\": \"histogram\"}], \"histogram2d\": [{\"colorbar\": {\"outlinewidth\": 0, \"ticks\": \"\"}, \"colorscale\": [[0.0, \"#0d0887\"], [0.1111111111111111, \"#46039f\"], [0.2222222222222222, \"#7201a8\"], [0.3333333333333333, \"#9c179e\"], [0.4444444444444444, \"#bd3786\"], [0.5555555555555556, \"#d8576b\"], [0.6666666666666666, \"#ed7953\"], [0.7777777777777778, \"#fb9f3a\"], [0.8888888888888888, \"#fdca26\"], [1.0, \"#f0f921\"]], \"type\": \"histogram2d\"}], \"histogram2dcontour\": [{\"colorbar\": {\"outlinewidth\": 0, \"ticks\": \"\"}, \"colorscale\": [[0.0, \"#0d0887\"], [0.1111111111111111, \"#46039f\"], [0.2222222222222222, \"#7201a8\"], [0.3333333333333333, \"#9c179e\"], [0.4444444444444444, \"#bd3786\"], [0.5555555555555556, \"#d8576b\"], [0.6666666666666666, \"#ed7953\"], [0.7777777777777778, \"#fb9f3a\"], [0.8888888888888888, \"#fdca26\"], [1.0, \"#f0f921\"]], \"type\": \"histogram2dcontour\"}], \"mesh3d\": [{\"colorbar\": {\"outlinewidth\": 0, \"ticks\": \"\"}, \"type\": \"mesh3d\"}], \"parcoords\": [{\"line\": {\"colorbar\": {\"outlinewidth\": 0, \"ticks\": \"\"}}, \"type\": \"parcoords\"}], \"scatter\": [{\"marker\": {\"colorbar\": {\"outlinewidth\": 0, \"ticks\": \"\"}}, \"type\": \"scatter\"}], \"scatter3d\": [{\"line\": {\"colorbar\": {\"outlinewidth\": 0, \"ticks\": \"\"}}, \"marker\": {\"colorbar\": {\"outlinewidth\": 0, \"ticks\": \"\"}}, \"type\": \"scatter3d\"}], \"scattercarpet\": [{\"marker\": {\"colorbar\": {\"outlinewidth\": 0, \"ticks\": \"\"}}, \"type\": \"scattercarpet\"}], \"scattergeo\": [{\"marker\": {\"colorbar\": {\"outlinewidth\": 0, \"ticks\": \"\"}}, \"type\": \"scattergeo\"}], \"scattergl\": [{\"marker\": {\"colorbar\": {\"outlinewidth\": 0, \"ticks\": \"\"}}, \"type\": \"scattergl\"}], \"scattermapbox\": [{\"marker\": {\"colorbar\": {\"outlinewidth\": 0, \"ticks\": \"\"}}, \"type\": \"scattermapbox\"}], \"scatterpolar\": [{\"marker\": {\"colorbar\": {\"outlinewidth\": 0, \"ticks\": \"\"}}, \"type\": \"scatterpolar\"}], \"scatterpolargl\": [{\"marker\": {\"colorbar\": {\"outlinewidth\": 0, \"ticks\": \"\"}}, \"type\": \"scatterpolargl\"}], \"scatterternary\": [{\"marker\": {\"colorbar\": {\"outlinewidth\": 0, \"ticks\": \"\"}}, \"type\": \"scatterternary\"}], \"surface\": [{\"colorbar\": {\"outlinewidth\": 0, \"ticks\": \"\"}, \"colorscale\": [[0.0, \"#0d0887\"], [0.1111111111111111, \"#46039f\"], [0.2222222222222222, \"#7201a8\"], [0.3333333333333333, \"#9c179e\"], [0.4444444444444444, \"#bd3786\"], [0.5555555555555556, \"#d8576b\"], [0.6666666666666666, \"#ed7953\"], [0.7777777777777778, \"#fb9f3a\"], [0.8888888888888888, \"#fdca26\"], [1.0, \"#f0f921\"]], \"type\": \"surface\"}], \"table\": [{\"cells\": {\"fill\": {\"color\": \"#EBF0F8\"}, \"line\": {\"color\": \"white\"}}, \"header\": {\"fill\": {\"color\": \"#C8D4E3\"}, \"line\": {\"color\": \"white\"}}, \"type\": \"table\"}]}, \"layout\": {\"annotationdefaults\": {\"arrowcolor\": \"#2a3f5f\", \"arrowhead\": 0, \"arrowwidth\": 1}, \"colorscale\": {\"diverging\": [[0, \"#8e0152\"], [0.1, \"#c51b7d\"], [0.2, \"#de77ae\"], [0.3, \"#f1b6da\"], [0.4, \"#fde0ef\"], [0.5, \"#f7f7f7\"], [0.6, \"#e6f5d0\"], [0.7, \"#b8e186\"], [0.8, \"#7fbc41\"], [0.9, \"#4d9221\"], [1, \"#276419\"]], \"sequential\": [[0.0, \"#0d0887\"], [0.1111111111111111, \"#46039f\"], [0.2222222222222222, \"#7201a8\"], [0.3333333333333333, \"#9c179e\"], [0.4444444444444444, \"#bd3786\"], [0.5555555555555556, \"#d8576b\"], [0.6666666666666666, \"#ed7953\"], [0.7777777777777778, \"#fb9f3a\"], [0.8888888888888888, \"#fdca26\"], [1.0, \"#f0f921\"]], \"sequentialminus\": [[0.0, \"#0d0887\"], [0.1111111111111111, \"#46039f\"], [0.2222222222222222, \"#7201a8\"], [0.3333333333333333, \"#9c179e\"], [0.4444444444444444, \"#bd3786\"], [0.5555555555555556, \"#d8576b\"], [0.6666666666666666, \"#ed7953\"], [0.7777777777777778, \"#fb9f3a\"], [0.8888888888888888, \"#fdca26\"], [1.0, \"#f0f921\"]]}, \"colorway\": [\"#636efa\", \"#EF553B\", \"#00cc96\", \"#ab63fa\", \"#FFA15A\", \"#19d3f3\", \"#FF6692\", \"#B6E880\", \"#FF97FF\", \"#FECB52\"], \"font\": {\"color\": \"#2a3f5f\"}, \"geo\": {\"bgcolor\": \"white\", \"lakecolor\": \"white\", \"landcolor\": \"#E5ECF6\", \"showlakes\": true, \"showland\": true, \"subunitcolor\": \"white\"}, \"hoverlabel\": {\"align\": \"left\"}, \"hovermode\": \"closest\", \"mapbox\": {\"style\": \"light\"}, \"paper_bgcolor\": \"white\", \"plot_bgcolor\": \"#E5ECF6\", \"polar\": {\"angularaxis\": {\"gridcolor\": \"white\", \"linecolor\": \"white\", \"ticks\": \"\"}, \"bgcolor\": \"#E5ECF6\", \"radialaxis\": {\"gridcolor\": \"white\", \"linecolor\": \"white\", \"ticks\": \"\"}}, \"scene\": {\"xaxis\": {\"backgroundcolor\": \"#E5ECF6\", \"gridcolor\": \"white\", \"gridwidth\": 2, \"linecolor\": \"white\", \"showbackground\": true, \"ticks\": \"\", \"zerolinecolor\": \"white\"}, \"yaxis\": {\"backgroundcolor\": \"#E5ECF6\", \"gridcolor\": \"white\", \"gridwidth\": 2, \"linecolor\": \"white\", \"showbackground\": true, \"ticks\": \"\", \"zerolinecolor\": \"white\"}, \"zaxis\": {\"backgroundcolor\": \"#E5ECF6\", \"gridcolor\": \"white\", \"gridwidth\": 2, \"linecolor\": \"white\", \"showbackground\": true, \"ticks\": \"\", \"zerolinecolor\": \"white\"}}, \"shapedefaults\": {\"line\": {\"color\": \"#2a3f5f\"}}, \"ternary\": {\"aaxis\": {\"gridcolor\": \"white\", \"linecolor\": \"white\", \"ticks\": \"\"}, \"baxis\": {\"gridcolor\": \"white\", \"linecolor\": \"white\", \"ticks\": \"\"}, \"bgcolor\": \"#E5ECF6\", \"caxis\": {\"gridcolor\": \"white\", \"linecolor\": \"white\", \"ticks\": \"\"}}, \"title\": {\"x\": 0.05}, \"xaxis\": {\"automargin\": true, \"gridcolor\": \"white\", \"linecolor\": \"white\", \"ticks\": \"\", \"zerolinecolor\": \"white\", \"zerolinewidth\": 2}, \"yaxis\": {\"automargin\": true, \"gridcolor\": \"white\", \"linecolor\": \"white\", \"ticks\": \"\", \"zerolinecolor\": \"white\", \"zerolinewidth\": 2}}}},\n",
       "                        {\"showLink\": \"parkrun\", \"linkText\": \"Export to plot.ly\", \"plotlyServerURL\": \"https://plot.ly\", \"responsive\": true}\n",
       "                    ).then(function(){\n",
       "                            Plotly.addFrames('544b7e82-0668-44ca-b7e0-ab5b3757bddc', [{\"data\": [{\"marker\": {\"color\": [\"#31d802\", \"#9e6bd5\", \"#e93575\", \"#1a8ceb\", \"#0c5c89\", \"#537a95\", \"#047964\", \"#e948a5\", \"#6222b1\", \"#845e81\"]}, \"orientation\": \"h\", \"x\": [164, 163, 154, 142, 141, 111, 90, 80, 79, 61], \"y\": [\"Philip SMITH\", \"Charlie THOMPSON\", \"Michael WILSON\", \"Jamie INGROUILLE\", \"Chris HICKLING\", \"Gary DODD\", \"Tony CLARKSON\", \"Tristan ROBILLIARD\", \"Mike WILESMITH\", \"Lee GARLAND\"], \"type\": \"bar\"}], \"name\": \"1\"}, {\"data\": [{\"marker\": {\"color\": [\"#5c173d\", \"#4f38ea\", \"#31d802\", \"#537a95\", \"#7cdbfe\", \"#c3b2b4\", \"#fd11fa\", \"#8a69f5\", \"#c912f9\", \"#6222b1\"]}, \"orientation\": \"h\", \"x\": [142, 142, 130, 128, 104, 88, 87, 70, 55, 33], \"y\": [\"Jerym BRUNTON\", \"Mark JEFFREYS\", \"Philip SMITH\", \"Gary DODD\", \"Taylor HUXSTER\", \"Ben WILEN\", \"James PRIEST\", \"Alan ROWE\", \"Jason JAMES\", \"Mike WILESMITH\"], \"type\": \"bar\"}], \"name\": \"2\"}, {\"data\": [{\"marker\": {\"color\": [\"#a343c5\", \"#a3e1c4\", \"#0f6591\", \"#0c5c89\", \"#acfa13\", \"#4f38ea\", \"#537a95\", \"#c912f9\", \"#6222b1\", \"#23c75c\"]}, \"orientation\": \"h\", \"x\": [186, 182, 176, 165, 157, 146, 120, 118, 100, 53], \"y\": [\"Ben FOOTE\", \"Jesus GONZALEZ MORENO\", \"Tom PASSEY\", \"Chris HICKLING\", \"Toby GRICE\", \"Mark JEFFREYS\", \"Gary DODD\", \"Jason JAMES\", \"Mike WILESMITH\", \"Carl HOLDEN\"], \"type\": \"bar\"}], \"name\": \"3\"}, {\"data\": [{\"marker\": {\"color\": [\"#0e1ede\", \"#537a95\", \"#bef423\", \"#0761c1\", \"#3bfd97\", \"#35109e\", \"#fd11fa\", \"#4f38ea\", \"#c181a4\", \"#643ea8\"]}, \"orientation\": \"h\", \"x\": [241, 240, 225, 197, 195, 185, 172, 142, 123, 95], \"y\": [\"Paul HEWITT\", \"Gary DODD\", \"Steve MANKLOW\", \"Tom SHAW\", \"Richard BARTRAM\", \"Adam THOUMINE\", \"James PRIEST\", \"Mark JEFFREYS\", \"Stuart LE NOURY\", \"James DE GARIS\"], \"type\": \"bar\"}], \"name\": \"4\"}, {\"data\": [{\"marker\": {\"color\": [\"#c181a4\", \"#4f38ea\", \"#866a37\", \"#fd11fa\", \"#537a95\", \"#c3b2b4\", \"#643ea8\", \"#a6a253\", \"#94a838\", \"#4a66bf\"]}, \"orientation\": \"h\", \"x\": [127, 123, 114, 112, 87, 85, 80, 34, 30, 15], \"y\": [\"Stuart LE NOURY\", \"Mark JEFFREYS\", \"Ed BARLOW\", \"James PRIEST\", \"Gary DODD\", \"Ben WILEN\", \"James DE GARIS\", \"Steve DAWES\", \"Oliver SMITH\", \"David EMERY\"], \"type\": \"bar\"}], \"name\": \"5\"}, {\"data\": [{\"marker\": {\"color\": [\"#9e6bd5\", \"#8c31ae\", \"#69f527\", \"#643ea8\", \"#4f38ea\", \"#d99930\", \"#375761\", \"#537a95\", \"#ecaa75\", \"#2f6bac\"]}, \"orientation\": \"h\", \"x\": [119, 116, 114, 107, 101, 101, 96, 96, 93, 65], \"y\": [\"Charlie THOMPSON\", \"Simon INGROUILLE\", \"Sam LESLEY\", \"James DE GARIS\", \"Mark JEFFREYS\", \"Chris GILLMAN\", \"Nic BAILEY\", \"Gary DODD\", \"Robbie FERGUSON\", \"Luke RICHARDS\"], \"type\": \"bar\"}], \"name\": \"6\"}, {\"data\": [{\"marker\": {\"color\": [\"#fdf2cc\", \"#4f38ea\", \"#7ead47\", \"#f88314\", \"#7cdbfe\", \"#fd11fa\", \"#643ea8\", \"#c3b2b4\", \"#c912f9\", \"#4a66bf\"]}, \"orientation\": \"h\", \"x\": [128, 118, 117, 93, 84, 76, 73, 66, 50, 25], \"y\": [\"Richard HANN\", \"Mark JEFFREYS\", \"Richard LARGE\", \"John BUSBY\", \"Taylor HUXSTER\", \"James PRIEST\", \"James DE GARIS\", \"Ben WILEN\", \"Jason JAMES\", \"David EMERY\"], \"type\": \"bar\"}], \"name\": \"7\"}, {\"data\": [{\"marker\": {\"color\": [\"#5103f0\", \"#e24969\", \"#31d802\", \"#23c233\", \"#193a30\", \"#5c173d\", \"#643ea8\", \"#8c31ae\", \"#4a66bf\", \"#4afbfc\"]}, \"orientation\": \"h\", \"x\": [184, 183, 151, 146, 128, 128, 119, 115, 78, 73], \"y\": [\"Sebastian FOY\", \"Andy HATTON\", \"Philip SMITH\", \"Rob BYRNE\", \"Adrian LIHOU\", \"Jerym BRUNTON\", \"James DE GARIS\", \"Simon INGROUILLE\", \"David EMERY\", \"Joseph TRIM\"], \"type\": \"bar\"}], \"name\": \"8\"}, {\"data\": [{\"marker\": {\"color\": [\"#a343c5\", \"#f9fe65\", \"#e24969\", \"#7e54cc\", \"#6b8b69\", \"#9e6bd5\", \"#562f75\", \"#643ea8\", \"#4f38ea\", \"#a6a253\"]}, \"orientation\": \"h\", \"x\": [254, 244, 243, 234, 232, 222, 217, 204, 181, 55], \"y\": [\"Ben FOOTE\", \"Pete SARGENT\", \"Andy HATTON\", \"Colin JEFFREYS\", \"Kieran ASHWORTH\", \"Charlie THOMPSON\", \"Adam KNIGHT\", \"James DE GARIS\", \"Mark JEFFREYS\", \"Steve DAWES\"], \"type\": \"bar\"}], \"name\": \"9\"}, {\"data\": [{\"marker\": {\"color\": [\"#9e6bd5\", \"#67924b\", \"#193a30\", \"#866a37\", \"#69f527\", \"#9dc8ff\", \"#345135\", \"#c3b2b4\", \"#fd11fa\", \"#1195dc\"]}, \"orientation\": \"h\", \"x\": [151, 134, 128, 127, 124, 107, 93, 60, 55, 21], \"y\": [\"Charlie THOMPSON\", \"Harry BERTRAM\", \"Adrian LIHOU\", \"Ed BARLOW\", \"Sam LESLEY\", \"Matthew HOGARTH\", \"Chris MOLLOY\", \"Ben WILEN\", \"James PRIEST\", \"Andrew VAN KINTS\"], \"type\": \"bar\"}], \"name\": \"10\"}, {\"data\": [{\"marker\": {\"color\": [\"#7e54cc\", \"#8c31ae\", \"#9e6bd5\", \"#6a9c31\", \"#2a47a2\", \"#fdf2cc\", \"#74e5b7\", \"#acaf0e\", \"#1195dc\", \"#0bd4c1\"]}, \"orientation\": \"h\", \"x\": [150, 145, 143, 134, 86, 75, 72, 70, 37, 0], \"y\": [\"Colin JEFFREYS\", \"Simon INGROUILLE\", \"Charlie THOMPSON\", \"Al RILEY\", \"Barny O'NEILL\", \"Richard HANN\", \"Matthew GRANTHAM\", \"Alexander James TATE\", \"Andrew VAN KINTS\", \"Michael BATISTE\"], \"type\": \"bar\"}], \"name\": \"11\"}, {\"data\": [{\"marker\": {\"color\": [\"#69f527\", \"#dc62ee\", \"#9c18dd\", \"#c912f9\", \"#7cdbfe\", \"#55d9fd\", \"#643ea8\", \"#fd11fa\", \"#1a84fc\", \"#46dbff\"]}, \"orientation\": \"h\", \"x\": [103, 92, 85, 75, 70, 70, 56, 25, 12, 3], \"y\": [\"Sam LESLEY\", \"Steve LATHAM\", \"Michael ILOTT\", \"Jason JAMES\", \"Taylor HUXSTER\", \"Louise PERRIO\", \"James DE GARIS\", \"James PRIEST\", \"Ryan MCCRICKERD\", \"James ESPIE\"], \"type\": \"bar\"}], \"name\": \"12\"}, {\"data\": [{\"marker\": {\"color\": [\"#5ea00b\", \"#bef423\", \"#3679c8\", \"#4f38ea\", \"#69f527\", \"#c181a4\", \"#7d4d09\", \"#dae9bf\", \"#f9fe65\", \"#9e6bd5\"]}, \"orientation\": \"h\", \"x\": [194, 189, 183, 181, 175, 175, 162, 141, 130, 114], \"y\": [\"Richard THORBURN\", \"Steve MANKLOW\", \"Nick HYNES\", \"Mark JEFFREYS\", \"Sam LESLEY\", \"Stuart LE NOURY\", \"Stuart KIRKLAND\", \"James HERVE\", \"Pete SARGENT\", \"Charlie THOMPSON\"], \"type\": \"bar\"}], \"name\": \"13\"}, {\"data\": [{\"marker\": {\"color\": [\"#7d4d09\", \"#c181a4\", \"#2f6bac\", \"#57890c\", \"#7e54cc\", \"#4a66bf\", \"#9865c1\", \"#69f527\", \"#badb3f\", \"#489015\"]}, \"orientation\": \"h\", \"x\": [267, 256, 253, 252, 251, 248, 198, 191, 190, 186], \"y\": [\"Stuart KIRKLAND\", \"Stuart LE NOURY\", \"Luke RICHARDS\", \"James TIPPER\", \"Colin JEFFREYS\", \"David EMERY\", \"Joshua BRIEN\", \"Sam LESLEY\", \"Nick MANN\", \"Tom JOHNSON\"], \"type\": \"bar\"}], \"name\": \"14\"}, {\"data\": [{\"marker\": {\"color\": [\"#bef423\", \"#b4ea30\", \"#675da2\", \"#f306cd\", \"#5ea00b\", \"#489015\", \"#4a66bf\", \"#643ea8\", \"#5ef5e2\", \"#9e6bd5\"]}, \"orientation\": \"h\", \"x\": [210, 210, 209, 201, 194, 183, 169, 169, 159, 154], \"y\": [\"Steve MANKLOW\", \"Daniel KING\", \"Philip HUGO\", \"Shane HUXSTER\", \"Richard THORBURN\", \"Tom JOHNSON\", \"David EMERY\", \"James DE GARIS\", \"Mark BURLEY\", \"Charlie THOMPSON\"], \"type\": \"bar\"}], \"name\": \"15\"}, {\"data\": [{\"marker\": {\"color\": [\"#a851b1\", \"#643ea8\", \"#9dc8ff\", \"#f306cd\", \"#643c89\", \"#f66c05\", \"#2fe6a8\", \"#4a66bf\", \"#69f527\", \"#ec30f9\"]}, \"orientation\": \"h\", \"x\": [133, 130, 116, 110, 110, 98, 89, 75, 62, 35], \"y\": [\"Isaac BATE\", \"James DE GARIS\", \"Matthew HOGARTH\", \"Shane HUXSTER\", \"James FORD\", \"Matthew SALT\", \"Jimmy ADAMS\", \"David EMERY\", \"Sam LESLEY\", \"Simon COLE\"], \"type\": \"bar\"}], \"name\": \"16\"}]);\n",
       "                        }).then(function(){\n",
       "                            Plotly.animate('544b7e82-0668-44ca-b7e0-ab5b3757bddc', null);\n",
       "                        }).then(function(){\n",
       "                            \n",
       "var gd = document.getElementById('544b7e82-0668-44ca-b7e0-ab5b3757bddc');\n",
       "var x = new MutationObserver(function (mutations, observer) {{\n",
       "        var display = window.getComputedStyle(gd).display;\n",
       "        if (!display || display === 'none') {{\n",
       "            console.log([gd, 'removed!']);\n",
       "            Plotly.purge(gd);\n",
       "            observer.disconnect();\n",
       "        }}\n",
       "}});\n",
       "\n",
       "// Listen for the removal of the full notebook cells\n",
       "var notebookContainer = gd.closest('#notebook-container');\n",
       "if (notebookContainer) {{\n",
       "    x.observe(notebookContainer, {childList: true});\n",
       "}}\n",
       "\n",
       "// Listen for the clearing of the current output cell\n",
       "var outputEl = gd.closest('.output');\n",
       "if (outputEl) {{\n",
       "    x.observe(outputEl, {childList: true});\n",
       "}}\n",
       "\n",
       "                        })\n",
       "                };\n",
       "                });\n",
       "            </script>\n",
       "        </div>"
      ]
     },
     "metadata": {},
     "output_type": "display_data"
    }
   ],
   "source": [
    "from plotly.offline import init_notebook_mode, iplot\n",
    "iplot(fig, \"parkrun\")"
   ]
  },
  {
   "cell_type": "code",
   "execution_count": null,
   "metadata": {},
   "outputs": [],
   "source": []
  }
 ],
 "metadata": {
  "kernelspec": {
   "display_name": "Python 3",
   "language": "python",
   "name": "python3"
  },
  "language_info": {
   "codemirror_mode": {
    "name": "ipython",
    "version": 3
   },
   "file_extension": ".py",
   "mimetype": "text/x-python",
   "name": "python",
   "nbconvert_exporter": "python",
   "pygments_lexer": "ipython3",
   "version": "3.6.8"
  }
 },
 "nbformat": 4,
 "nbformat_minor": 4
}
