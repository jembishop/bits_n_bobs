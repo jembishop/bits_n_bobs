{
 "cells": [
  {
   "cell_type": "code",
   "execution_count": 81,
   "metadata": {},
   "outputs": [],
   "source": [
    "from everything import *"
   ]
  },
  {
   "cell_type": "code",
   "execution_count": 82,
   "metadata": {},
   "outputs": [],
   "source": [
    "agg_num=100\n",
    "aggdf = pd.read_csv(f\"aggregated_{agg_num}_std.csv\", index_col =False)\n",
    "data = aggdf[[\"acoustic_data\", \"time_to_failure\"]].to_numpy()\n"
   ]
  },
  {
   "cell_type": "code",
   "execution_count": 88,
   "metadata": {},
   "outputs": [
    {
     "data": {
      "text/plain": [
       "((3356, 1500, 1), (3356, 1))"
      ]
     },
     "execution_count": 88,
     "metadata": {},
     "output_type": "execute_result"
    }
   ],
   "source": [
    "from sklearn.model_selection import train_test_split\n",
    "#maybe normalize about zero?\n",
    "np.random.seed(43)\n",
    "ratio = 0.2\n",
    "num_channels = 1\n",
    "n = len(data)\n",
    "sample_size = int(150_000/agg_num)\n",
    "split_data = np.array(np.split(data[:(n//sample_size)*sample_size], n//sample_size))\n",
    "# labels are first time to appear \n",
    "split_inputs = split_data[:,:,0].reshape(-1, sample_size,1)\n",
    "split_labels = split_data[:,0,1].reshape(-1,1)\n",
    "p = np.random.permutation(len(split_inputs))\n",
    "split_inputs, split_labels = split_inputs[p], split_labels[p]\n",
    "train_num = int(len(split_inputs)*ratio)\n",
    "train_X, test_X = split_inputs[train_num:], split_inputs[:train_num]\n",
    "train_y, test_y = split_labels[train_num:], split_labels[:train_num]\n",
    "train_X.shape, train_y.shape"
   ]
  },
  {
   "cell_type": "code",
   "execution_count": 84,
   "metadata": {},
   "outputs": [
    {
     "name": "stdout",
     "output_type": "stream",
     "text": [
      "_________________________________________________________________\n",
      "Layer (type)                 Output Shape              Param #   \n",
      "=================================================================\n",
      "conv1d_37 (Conv1D)           (None, 1491, 100)         1100      \n",
      "_________________________________________________________________\n",
      "conv1d_38 (Conv1D)           (None, 1482, 100)         100100    \n",
      "_________________________________________________________________\n",
      "max_pooling1d_10 (MaxPooling (None, 494, 100)          0         \n",
      "_________________________________________________________________\n",
      "conv1d_39 (Conv1D)           (None, 485, 160)          160160    \n",
      "_________________________________________________________________\n",
      "conv1d_40 (Conv1D)           (None, 476, 160)          256160    \n",
      "_________________________________________________________________\n",
      "global_average_pooling1d_10  (None, 160)               0         \n",
      "_________________________________________________________________\n",
      "dropout_10 (Dropout)         (None, 160)               0         \n",
      "_________________________________________________________________\n",
      "dense_10 (Dense)             (None, 1)                 161       \n",
      "=================================================================\n",
      "Total params: 517,681\n",
      "Trainable params: 517,681\n",
      "Non-trainable params: 0\n",
      "_________________________________________________________________\n"
     ]
    },
    {
     "data": {
      "text/plain": [
       "(None, (None, 1500, 1), (None, 1))"
      ]
     },
     "execution_count": 84,
     "metadata": {},
     "output_type": "execute_result"
    }
   ],
   "source": [
    "from keras.models import Sequential\n",
    "from keras.layers import Dense, Conv1D, Reshape, MaxPooling1D, GlobalAveragePooling1D, Dropout\n",
    "model = Sequential()\n",
    "#model_m.add(Reshape((sample_size, num_channels), input_shape=(3356)))\n",
    "model.add(Conv1D(100, 10, activation='relu', input_shape=(sample_size, num_channels)))\n",
    "model.add(Conv1D(100, 10, activation='relu'))\n",
    "model.add(MaxPooling1D(3))\n",
    "model.add(Conv1D(160, 10, activation='relu'))\n",
    "model.add(Conv1D(160, 10, activation='relu'))\n",
    "model.add(GlobalAveragePooling1D())\n",
    "model.add(Dropout(0.5))\n",
    "model.add(Dense(1, activation='linear'))\n",
    "model.summary(), model.input_shape, model.output_shape"
   ]
  },
  {
   "cell_type": "code",
   "execution_count": 85,
   "metadata": {},
   "outputs": [
    {
     "name": "stdout",
     "output_type": "stream",
     "text": [
      "Epoch 1/20\n",
      "3356/3356 [==============================] - 4s 1ms/step - loss: 3.1947 - mean_absolute_error: 3.1947\n",
      "Epoch 2/20\n",
      "3356/3356 [==============================] - 3s 874us/step - loss: 2.3711 - mean_absolute_error: 2.3711\n",
      "Epoch 3/20\n",
      "3356/3356 [==============================] - 3s 868us/step - loss: 2.4008 - mean_absolute_error: 2.4008\n",
      "Epoch 4/20\n",
      "3356/3356 [==============================] - 3s 873us/step - loss: 2.3566 - mean_absolute_error: 2.3566\n",
      "Epoch 5/20\n",
      "3356/3356 [==============================] - 3s 873us/step - loss: 2.3959 - mean_absolute_error: 2.3959\n",
      "Epoch 6/20\n",
      "3356/3356 [==============================] - 3s 864us/step - loss: 2.3425 - mean_absolute_error: 2.3425\n",
      "Epoch 7/20\n",
      "3356/3356 [==============================] - 3s 865us/step - loss: 2.3251 - mean_absolute_error: 2.3251\n",
      "Epoch 8/20\n",
      "3356/3356 [==============================] - 3s 866us/step - loss: 2.3038 - mean_absolute_error: 2.3038\n",
      "Epoch 9/20\n",
      "3356/3356 [==============================] - 3s 867us/step - loss: 2.2947 - mean_absolute_error: 2.2947\n",
      "Epoch 10/20\n",
      "3356/3356 [==============================] - 3s 870us/step - loss: 2.2657 - mean_absolute_error: 2.2657\n",
      "Epoch 11/20\n",
      "3356/3356 [==============================] - 3s 863us/step - loss: 2.2782 - mean_absolute_error: 2.2782\n",
      "Epoch 12/20\n",
      "3356/3356 [==============================] - 3s 857us/step - loss: 2.2853 - mean_absolute_error: 2.2853\n",
      "Epoch 13/20\n",
      "3356/3356 [==============================] - 3s 862us/step - loss: 2.2956 - mean_absolute_error: 2.2956\n",
      "Epoch 14/20\n",
      "3356/3356 [==============================] - 3s 862us/step - loss: 2.2562 - mean_absolute_error: 2.2562\n",
      "Epoch 15/20\n",
      "3356/3356 [==============================] - 3s 862us/step - loss: 2.2628 - mean_absolute_error: 2.2628\n",
      "Epoch 16/20\n",
      "3356/3356 [==============================] - 3s 864us/step - loss: 2.2302 - mean_absolute_error: 2.2302\n",
      "Epoch 17/20\n",
      "3356/3356 [==============================] - 3s 866us/step - loss: 2.3033 - mean_absolute_error: 2.3033\n",
      "Epoch 18/20\n",
      "3356/3356 [==============================] - 3s 863us/step - loss: 2.2653 - mean_absolute_error: 2.2653\n",
      "Epoch 19/20\n",
      "3356/3356 [==============================] - 3s 869us/step - loss: 2.3079 - mean_absolute_error: 2.3079\n",
      "Epoch 20/20\n",
      "3356/3356 [==============================] - 3s 860us/step - loss: 2.2707 - mean_absolute_error: 2.2707\n"
     ]
    },
    {
     "data": {
      "text/plain": [
       "<keras.callbacks.History at 0x1745caff9e8>"
      ]
     },
     "execution_count": 85,
     "metadata": {},
     "output_type": "execute_result"
    }
   ],
   "source": [
    "model.compile(loss='mean_absolute_error', optimizer='adam', metrics=['mean_absolute_error'])\n",
    "model.fit(train_X, train_y, epochs=20)\n"
   ]
  },
  {
   "cell_type": "code",
   "execution_count": 86,
   "metadata": {},
   "outputs": [
    {
     "name": "stdout",
     "output_type": "stream",
     "text": []
    },
    {
     "name": "stdout",
     "output_type": "stream",
     "text": [
      "838/838 [==============================] - 0s 536us/step\n"
     ]
    },
    {
     "data": {
      "text/plain": [
       "[2.153720864248162, 2.153720864248162]"
      ]
     },
     "execution_count": 86,
     "metadata": {},
     "output_type": "execute_result"
    }
   ],
   "source": [
    "model.evaluate(test_X, test_y)"
   ]
  },
  {
   "cell_type": "code",
   "execution_count": 87,
   "metadata": {},
   "outputs": [],
   "source": [
    "model.save(f\"agg_std_{agg_num}_model_std_2.15\")"
   ]
  },
  {
   "cell_type": "code",
   "execution_count": 72,
   "metadata": {},
   "outputs": [
    {
     "data": {
      "text/plain": [
       "array([[0.00043422],\n",
       "       [0.00043422],\n",
       "       [0.00043422],\n",
       "       [0.00043422],\n",
       "       [0.00043422],\n",
       "       [0.00043422],\n",
       "       [0.00043422],\n",
       "       [0.00043422],\n",
       "       [0.00043422],\n",
       "       [0.00043422]], dtype=float32)"
      ]
     },
     "execution_count": 72,
     "metadata": {},
     "output_type": "execute_result"
    }
   ],
   "source": [
    "model.predict(test_X[:10])"
   ]
  },
  {
   "cell_type": "code",
   "execution_count": 75,
   "metadata": {},
   "outputs": [
    {
     "data": {
      "text/plain": [
       "0.0005482964397879859"
      ]
     },
     "execution_count": 75,
     "metadata": {},
     "output_type": "execute_result"
    }
   ],
   "source": [
    "max(i[0] for i in test_y)"
   ]
  },
  {
   "cell_type": "code",
   "execution_count": null,
   "metadata": {},
   "outputs": [],
   "source": []
  }
 ],
 "metadata": {
  "kernelspec": {
   "display_name": "Python 3",
   "language": "python",
   "name": "python3"
  },
  "language_info": {
   "codemirror_mode": {
    "name": "ipython",
    "version": 3
   },
   "file_extension": ".py",
   "mimetype": "text/x-python",
   "name": "python",
   "nbconvert_exporter": "python",
   "pygments_lexer": "ipython3",
   "version": "3.6.8"
  }
 },
 "nbformat": 4,
 "nbformat_minor": 2
}
